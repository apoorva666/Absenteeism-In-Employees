{
  "nbformat": 4,
  "nbformat_minor": 0,
  "metadata": {
    "colab": {
      "name": "ABSENTEEISM_OF_EMPLOYEES (ML).ipynb",
      "provenance": [],
      "collapsed_sections": [],
      "include_colab_link": true
    },
    "kernelspec": {
      "display_name": "Python 3",
      "language": "python",
      "name": "python3"
    },
    "language_info": {
      "codemirror_mode": {
        "name": "ipython",
        "version": 3
      },
      "file_extension": ".py",
      "mimetype": "text/x-python",
      "name": "python",
      "nbconvert_exporter": "python",
      "pygments_lexer": "ipython3",
      "version": "3.8.5"
    }
  },
  "cells": [
    {
      "cell_type": "markdown",
      "metadata": {
        "id": "view-in-github",
        "colab_type": "text"
      },
      "source": [
        "<a href=\"https://colab.research.google.com/github/apoorva666/Absenteeism-In-Employees/blob/main/ABSENTEEISM_OF_EMPLOYEES_(ML).ipynb\" target=\"_parent\"><img src=\"https://colab.research.google.com/assets/colab-badge.svg\" alt=\"Open In Colab\"/></a>"
      ]
    },
    {
      "cell_type": "code",
      "metadata": {
        "id": "2-75aip8pjXW"
      },
      "source": [
        "#Importing necessary libraries\n",
        "import pandas as pd\n",
        "import numpy as np\n",
        "import os\n",
        "import matplotlib.pyplot as plt\n",
        "import seaborn as sns\n",
        "%matplotlib inline"
      ],
      "execution_count": null,
      "outputs": []
    },
    {
      "cell_type": "code",
      "metadata": {
        "colab": {
          "base_uri": "https://localhost:8080/"
        },
        "id": "BVVujXWBTqL7",
        "outputId": "867cd744-f8f9-4ab4-aa62-1a8c405bc1c2"
      },
      "source": [
        "#Mounting Google Drive \n",
        "from google.colab import drive\n",
        "drive.mount('/content/drive')"
      ],
      "execution_count": null,
      "outputs": [
        {
          "output_type": "stream",
          "name": "stdout",
          "text": [
            "Drive already mounted at /content/drive; to attempt to forcibly remount, call drive.mount(\"/content/drive\", force_remount=True).\n"
          ]
        }
      ]
    },
    {
      "cell_type": "code",
      "metadata": {
        "id": "ER9n3UHdpjXa"
      },
      "source": [
        "#Loading csv file/dataset in a varaible\n",
        "raw_csv_data=pd.read_csv('/content/drive/My Drive/Colab Notebooks/Absenteeism/Absenteeism_data.csv')"
      ],
      "execution_count": null,
      "outputs": []
    },
    {
      "cell_type": "code",
      "metadata": {
        "colab": {
          "base_uri": "https://localhost:8080/",
          "height": 223
        },
        "id": "PSIat5NapjXb",
        "outputId": "8843a6dc-e025-4ad8-975a-e4a77f0aefa0"
      },
      "source": [
        "#Checking contents of the dataset\n",
        "raw_csv_data.head()"
      ],
      "execution_count": null,
      "outputs": [
        {
          "output_type": "execute_result",
          "data": {
            "text/html": [
              "<div>\n",
              "<style scoped>\n",
              "    .dataframe tbody tr th:only-of-type {\n",
              "        vertical-align: middle;\n",
              "    }\n",
              "\n",
              "    .dataframe tbody tr th {\n",
              "        vertical-align: top;\n",
              "    }\n",
              "\n",
              "    .dataframe thead th {\n",
              "        text-align: right;\n",
              "    }\n",
              "</style>\n",
              "<table border=\"1\" class=\"dataframe\">\n",
              "  <thead>\n",
              "    <tr style=\"text-align: right;\">\n",
              "      <th></th>\n",
              "      <th>ID</th>\n",
              "      <th>Reason for Absence</th>\n",
              "      <th>Date</th>\n",
              "      <th>Transportation Expense</th>\n",
              "      <th>Distance to Work</th>\n",
              "      <th>Age</th>\n",
              "      <th>Daily Work Load Average</th>\n",
              "      <th>Body Mass Index</th>\n",
              "      <th>Education</th>\n",
              "      <th>Children</th>\n",
              "      <th>Pets</th>\n",
              "      <th>Absenteeism Time in Days</th>\n",
              "    </tr>\n",
              "  </thead>\n",
              "  <tbody>\n",
              "    <tr>\n",
              "      <th>0</th>\n",
              "      <td>11</td>\n",
              "      <td>26</td>\n",
              "      <td>7/7/2015</td>\n",
              "      <td>289</td>\n",
              "      <td>36</td>\n",
              "      <td>33</td>\n",
              "      <td>239.554</td>\n",
              "      <td>30</td>\n",
              "      <td>1</td>\n",
              "      <td>2</td>\n",
              "      <td>1</td>\n",
              "      <td>4</td>\n",
              "    </tr>\n",
              "    <tr>\n",
              "      <th>1</th>\n",
              "      <td>36</td>\n",
              "      <td>0</td>\n",
              "      <td>14/07/2015</td>\n",
              "      <td>118</td>\n",
              "      <td>13</td>\n",
              "      <td>50</td>\n",
              "      <td>239.554</td>\n",
              "      <td>31</td>\n",
              "      <td>1</td>\n",
              "      <td>1</td>\n",
              "      <td>0</td>\n",
              "      <td>0</td>\n",
              "    </tr>\n",
              "    <tr>\n",
              "      <th>2</th>\n",
              "      <td>3</td>\n",
              "      <td>23</td>\n",
              "      <td>15/07/2015</td>\n",
              "      <td>179</td>\n",
              "      <td>51</td>\n",
              "      <td>38</td>\n",
              "      <td>239.554</td>\n",
              "      <td>31</td>\n",
              "      <td>1</td>\n",
              "      <td>0</td>\n",
              "      <td>0</td>\n",
              "      <td>2</td>\n",
              "    </tr>\n",
              "    <tr>\n",
              "      <th>3</th>\n",
              "      <td>7</td>\n",
              "      <td>7</td>\n",
              "      <td>16/07/2015</td>\n",
              "      <td>279</td>\n",
              "      <td>5</td>\n",
              "      <td>39</td>\n",
              "      <td>239.554</td>\n",
              "      <td>24</td>\n",
              "      <td>1</td>\n",
              "      <td>2</td>\n",
              "      <td>0</td>\n",
              "      <td>4</td>\n",
              "    </tr>\n",
              "    <tr>\n",
              "      <th>4</th>\n",
              "      <td>11</td>\n",
              "      <td>23</td>\n",
              "      <td>23/07/2015</td>\n",
              "      <td>289</td>\n",
              "      <td>36</td>\n",
              "      <td>33</td>\n",
              "      <td>239.554</td>\n",
              "      <td>30</td>\n",
              "      <td>1</td>\n",
              "      <td>2</td>\n",
              "      <td>1</td>\n",
              "      <td>2</td>\n",
              "    </tr>\n",
              "  </tbody>\n",
              "</table>\n",
              "</div>"
            ],
            "text/plain": [
              "   ID  Reason for Absence        Date  ...  Children  Pets  Absenteeism Time in Days\n",
              "0  11                  26    7/7/2015  ...         2     1                         4\n",
              "1  36                   0  14/07/2015  ...         1     0                         0\n",
              "2   3                  23  15/07/2015  ...         0     0                         2\n",
              "3   7                   7  16/07/2015  ...         2     0                         4\n",
              "4  11                  23  23/07/2015  ...         2     1                         2\n",
              "\n",
              "[5 rows x 12 columns]"
            ]
          },
          "metadata": {},
          "execution_count": 4
        }
      ]
    },
    {
      "cell_type": "code",
      "metadata": {
        "id": "ZdbaexWVpjXc"
      },
      "source": [
        "#Making a copy of the dataset for manipulation\n",
        "df_edit=raw_csv_data.copy()"
      ],
      "execution_count": null,
      "outputs": []
    },
    {
      "cell_type": "code",
      "metadata": {
        "colab": {
          "base_uri": "https://localhost:8080/"
        },
        "id": "sWGOIcmcpjXe",
        "outputId": "6ded1625-7a5f-4254-c16f-f46dbd958971"
      },
      "source": [
        "#Summarizing the table\n",
        "df_edit.info()"
      ],
      "execution_count": null,
      "outputs": [
        {
          "output_type": "stream",
          "name": "stdout",
          "text": [
            "<class 'pandas.core.frame.DataFrame'>\n",
            "RangeIndex: 700 entries, 0 to 699\n",
            "Data columns (total 12 columns):\n",
            " #   Column                    Non-Null Count  Dtype  \n",
            "---  ------                    --------------  -----  \n",
            " 0   ID                        700 non-null    int64  \n",
            " 1   Reason for Absence        700 non-null    int64  \n",
            " 2   Date                      700 non-null    object \n",
            " 3   Transportation Expense    700 non-null    int64  \n",
            " 4   Distance to Work          700 non-null    int64  \n",
            " 5   Age                       700 non-null    int64  \n",
            " 6   Daily Work Load Average   700 non-null    float64\n",
            " 7   Body Mass Index           700 non-null    int64  \n",
            " 8   Education                 700 non-null    int64  \n",
            " 9   Children                  700 non-null    int64  \n",
            " 10  Pets                      700 non-null    int64  \n",
            " 11  Absenteeism Time in Days  700 non-null    int64  \n",
            "dtypes: float64(1), int64(10), object(1)\n",
            "memory usage: 65.8+ KB\n"
          ]
        }
      ]
    },
    {
      "cell_type": "markdown",
      "metadata": {
        "id": "NyiaUXssg_Bo"
      },
      "source": [
        "Object dt is a mix of numbers & names"
      ]
    },
    {
      "cell_type": "code",
      "metadata": {
        "colab": {
          "base_uri": "https://localhost:8080/",
          "height": 405
        },
        "id": "FfKJV1w3lm6M",
        "outputId": "55e82714-5518-4656-985e-380a80cf064a"
      },
      "source": [
        "#Checking for missing values\n",
        "sns.heatmap(df_edit.isnull(),yticklabels=False,cbar=False,cmap='viridis')"
      ],
      "execution_count": null,
      "outputs": [
        {
          "output_type": "execute_result",
          "data": {
            "text/plain": [
              "<matplotlib.axes._subplots.AxesSubplot at 0x7fb2a3c23b10>"
            ]
          },
          "metadata": {},
          "execution_count": 7
        },
        {
          "output_type": "display_data",
          "data": {
            "image/png": "[encoded data removed]",
            "text/plain": [
              "<Figure size 432x288 with 1 Axes>"
            ]
          },
          "metadata": {
            "needs_background": "light"
          }
        }
      ]
    },
    {
      "cell_type": "markdown",
      "metadata": {
        "id": "-QFKCdQelx3o"
      },
      "source": [
        "No missing values"
      ]
    },
    {
      "cell_type": "code",
      "metadata": {
        "colab": {
          "base_uri": "https://localhost:8080/"
        },
        "id": "O3GYu4ZlnTxb",
        "outputId": "925439f3-34ac-4082-9a2e-3328ff5e7e45"
      },
      "source": [
        "# Checking all the columns\n",
        "df_edit.columns.values"
      ],
      "execution_count": null,
      "outputs": [
        {
          "output_type": "execute_result",
          "data": {
            "text/plain": [
              "array(['ID', 'Reason for Absence', 'Date', 'Transportation Expense',\n",
              "       'Distance to Work', 'Age', 'Daily Work Load Average',\n",
              "       'Body Mass Index', 'Education', 'Children', 'Pets',\n",
              "       'Absenteeism Time in Days'], dtype=object)"
            ]
          },
          "metadata": {},
          "execution_count": 8
        }
      ]
    },
    {
      "cell_type": "code",
      "metadata": {
        "id": "hn_i-w8ipjXf"
      },
      "source": [
        "#Dropping 'ID' as it is of no use to our prediction \n",
        "df_edit=df_edit.drop(['ID'], axis=1)"
      ],
      "execution_count": null,
      "outputs": []
    },
    {
      "cell_type": "code",
      "metadata": {
        "colab": {
          "base_uri": "https://localhost:8080/"
        },
        "id": "tbLnaoLxnocs",
        "outputId": "79f1407a-7529-488a-e6eb-f7f15da2ea22"
      },
      "source": [
        "#Finding unique values of 'Reasons for absence'\n",
        "sorting=df_edit['Reason for Absence'].unique()\n",
        "print(sorted(sorting))"
      ],
      "execution_count": null,
      "outputs": [
        {
          "output_type": "stream",
          "name": "stdout",
          "text": [
            "[0, 1, 2, 3, 4, 5, 6, 7, 8, 9, 10, 11, 12, 13, 14, 15, 16, 17, 18, 19, 21, 22, 23, 24, 25, 26, 27, 28]\n"
          ]
        }
      ]
    },
    {
      "cell_type": "code",
      "metadata": {
        "colab": {
          "base_uri": "https://localhost:8080/",
          "height": 112
        },
        "id": "uESuwow0pjXn",
        "outputId": "c9b29da9-e6e5-4665-9d10-877a936075bd"
      },
      "source": [
        "#Getting dummies for 'Reasons For Absence'\n",
        "Reason_dummies=pd.get_dummies(df_edit['Reason for Absence'], drop_first=False)\n",
        "Reason_dummies['Sum']=Reason_dummies.sum(axis=1)\n",
        "\n",
        "Reason_dummies.head(2)"
      ],
      "execution_count": null,
      "outputs": [
        {
          "output_type": "execute_result",
          "data": {
            "text/html": [
              "<div>\n",
              "<style scoped>\n",
              "    .dataframe tbody tr th:only-of-type {\n",
              "        vertical-align: middle;\n",
              "    }\n",
              "\n",
              "    .dataframe tbody tr th {\n",
              "        vertical-align: top;\n",
              "    }\n",
              "\n",
              "    .dataframe thead th {\n",
              "        text-align: right;\n",
              "    }\n",
              "</style>\n",
              "<table border=\"1\" class=\"dataframe\">\n",
              "  <thead>\n",
              "    <tr style=\"text-align: right;\">\n",
              "      <th></th>\n",
              "      <th>0</th>\n",
              "      <th>1</th>\n",
              "      <th>2</th>\n",
              "      <th>3</th>\n",
              "      <th>4</th>\n",
              "      <th>5</th>\n",
              "      <th>6</th>\n",
              "      <th>7</th>\n",
              "      <th>8</th>\n",
              "      <th>9</th>\n",
              "      <th>10</th>\n",
              "      <th>11</th>\n",
              "      <th>12</th>\n",
              "      <th>13</th>\n",
              "      <th>14</th>\n",
              "      <th>15</th>\n",
              "      <th>16</th>\n",
              "      <th>17</th>\n",
              "      <th>18</th>\n",
              "      <th>19</th>\n",
              "      <th>21</th>\n",
              "      <th>22</th>\n",
              "      <th>23</th>\n",
              "      <th>24</th>\n",
              "      <th>25</th>\n",
              "      <th>26</th>\n",
              "      <th>27</th>\n",
              "      <th>28</th>\n",
              "      <th>Sum</th>\n",
              "    </tr>\n",
              "  </thead>\n",
              "  <tbody>\n",
              "    <tr>\n",
              "      <th>0</th>\n",
              "      <td>0</td>\n",
              "      <td>0</td>\n",
              "      <td>0</td>\n",
              "      <td>0</td>\n",
              "      <td>0</td>\n",
              "      <td>0</td>\n",
              "      <td>0</td>\n",
              "      <td>0</td>\n",
              "      <td>0</td>\n",
              "      <td>0</td>\n",
              "      <td>0</td>\n",
              "      <td>0</td>\n",
              "      <td>0</td>\n",
              "      <td>0</td>\n",
              "      <td>0</td>\n",
              "      <td>0</td>\n",
              "      <td>0</td>\n",
              "      <td>0</td>\n",
              "      <td>0</td>\n",
              "      <td>0</td>\n",
              "      <td>0</td>\n",
              "      <td>0</td>\n",
              "      <td>0</td>\n",
              "      <td>0</td>\n",
              "      <td>0</td>\n",
              "      <td>1</td>\n",
              "      <td>0</td>\n",
              "      <td>0</td>\n",
              "      <td>1</td>\n",
              "    </tr>\n",
              "    <tr>\n",
              "      <th>1</th>\n",
              "      <td>1</td>\n",
              "      <td>0</td>\n",
              "      <td>0</td>\n",
              "      <td>0</td>\n",
              "      <td>0</td>\n",
              "      <td>0</td>\n",
              "      <td>0</td>\n",
              "      <td>0</td>\n",
              "      <td>0</td>\n",
              "      <td>0</td>\n",
              "      <td>0</td>\n",
              "      <td>0</td>\n",
              "      <td>0</td>\n",
              "      <td>0</td>\n",
              "      <td>0</td>\n",
              "      <td>0</td>\n",
              "      <td>0</td>\n",
              "      <td>0</td>\n",
              "      <td>0</td>\n",
              "      <td>0</td>\n",
              "      <td>0</td>\n",
              "      <td>0</td>\n",
              "      <td>0</td>\n",
              "      <td>0</td>\n",
              "      <td>0</td>\n",
              "      <td>0</td>\n",
              "      <td>0</td>\n",
              "      <td>0</td>\n",
              "      <td>1</td>\n",
              "    </tr>\n",
              "  </tbody>\n",
              "</table>\n",
              "</div>"
            ],
            "text/plain": [
              "   0  1  2  3  4  5  6  7  8  9  ...  19  21  22  23  24  25  26  27  28  Sum\n",
              "0  0  0  0  0  0  0  0  0  0  0  ...   0   0   0   0   0   0   1   0   0    1\n",
              "1  1  0  0  0  0  0  0  0  0  0  ...   0   0   0   0   0   0   0   0   0    1\n",
              "\n",
              "[2 rows x 29 columns]"
            ]
          },
          "metadata": {},
          "execution_count": 11
        }
      ]
    },
    {
      "cell_type": "code",
      "metadata": {
        "colab": {
          "base_uri": "https://localhost:8080/",
          "height": 143
        },
        "id": "Z77mTF-rpjYD",
        "outputId": "ace2b5df-f9fe-4937-9f80-8f8ff0d60778"
      },
      "source": [
        "#Removing column '0' to prevent multicollinearity\n",
        "Reason_dummies=pd.get_dummies(df_edit['Reason for Absence'], drop_first=True)\n",
        "Reason_dummies['Sum']=Reason_dummies.sum(axis=1)\n",
        "\n",
        "Reason_dummies.head(3)"
      ],
      "execution_count": null,
      "outputs": [
        {
          "output_type": "execute_result",
          "data": {
            "text/html": [
              "<div>\n",
              "<style scoped>\n",
              "    .dataframe tbody tr th:only-of-type {\n",
              "        vertical-align: middle;\n",
              "    }\n",
              "\n",
              "    .dataframe tbody tr th {\n",
              "        vertical-align: top;\n",
              "    }\n",
              "\n",
              "    .dataframe thead th {\n",
              "        text-align: right;\n",
              "    }\n",
              "</style>\n",
              "<table border=\"1\" class=\"dataframe\">\n",
              "  <thead>\n",
              "    <tr style=\"text-align: right;\">\n",
              "      <th></th>\n",
              "      <th>1</th>\n",
              "      <th>2</th>\n",
              "      <th>3</th>\n",
              "      <th>4</th>\n",
              "      <th>5</th>\n",
              "      <th>6</th>\n",
              "      <th>7</th>\n",
              "      <th>8</th>\n",
              "      <th>9</th>\n",
              "      <th>10</th>\n",
              "      <th>11</th>\n",
              "      <th>12</th>\n",
              "      <th>13</th>\n",
              "      <th>14</th>\n",
              "      <th>15</th>\n",
              "      <th>16</th>\n",
              "      <th>17</th>\n",
              "      <th>18</th>\n",
              "      <th>19</th>\n",
              "      <th>21</th>\n",
              "      <th>22</th>\n",
              "      <th>23</th>\n",
              "      <th>24</th>\n",
              "      <th>25</th>\n",
              "      <th>26</th>\n",
              "      <th>27</th>\n",
              "      <th>28</th>\n",
              "      <th>Sum</th>\n",
              "    </tr>\n",
              "  </thead>\n",
              "  <tbody>\n",
              "    <tr>\n",
              "      <th>0</th>\n",
              "      <td>0</td>\n",
              "      <td>0</td>\n",
              "      <td>0</td>\n",
              "      <td>0</td>\n",
              "      <td>0</td>\n",
              "      <td>0</td>\n",
              "      <td>0</td>\n",
              "      <td>0</td>\n",
              "      <td>0</td>\n",
              "      <td>0</td>\n",
              "      <td>0</td>\n",
              "      <td>0</td>\n",
              "      <td>0</td>\n",
              "      <td>0</td>\n",
              "      <td>0</td>\n",
              "      <td>0</td>\n",
              "      <td>0</td>\n",
              "      <td>0</td>\n",
              "      <td>0</td>\n",
              "      <td>0</td>\n",
              "      <td>0</td>\n",
              "      <td>0</td>\n",
              "      <td>0</td>\n",
              "      <td>0</td>\n",
              "      <td>1</td>\n",
              "      <td>0</td>\n",
              "      <td>0</td>\n",
              "      <td>1</td>\n",
              "    </tr>\n",
              "    <tr>\n",
              "      <th>1</th>\n",
              "      <td>0</td>\n",
              "      <td>0</td>\n",
              "      <td>0</td>\n",
              "      <td>0</td>\n",
              "      <td>0</td>\n",
              "      <td>0</td>\n",
              "      <td>0</td>\n",
              "      <td>0</td>\n",
              "      <td>0</td>\n",
              "      <td>0</td>\n",
              "      <td>0</td>\n",
              "      <td>0</td>\n",
              "      <td>0</td>\n",
              "      <td>0</td>\n",
              "      <td>0</td>\n",
              "      <td>0</td>\n",
              "      <td>0</td>\n",
              "      <td>0</td>\n",
              "      <td>0</td>\n",
              "      <td>0</td>\n",
              "      <td>0</td>\n",
              "      <td>0</td>\n",
              "      <td>0</td>\n",
              "      <td>0</td>\n",
              "      <td>0</td>\n",
              "      <td>0</td>\n",
              "      <td>0</td>\n",
              "      <td>0</td>\n",
              "    </tr>\n",
              "    <tr>\n",
              "      <th>2</th>\n",
              "      <td>0</td>\n",
              "      <td>0</td>\n",
              "      <td>0</td>\n",
              "      <td>0</td>\n",
              "      <td>0</td>\n",
              "      <td>0</td>\n",
              "      <td>0</td>\n",
              "      <td>0</td>\n",
              "      <td>0</td>\n",
              "      <td>0</td>\n",
              "      <td>0</td>\n",
              "      <td>0</td>\n",
              "      <td>0</td>\n",
              "      <td>0</td>\n",
              "      <td>0</td>\n",
              "      <td>0</td>\n",
              "      <td>0</td>\n",
              "      <td>0</td>\n",
              "      <td>0</td>\n",
              "      <td>0</td>\n",
              "      <td>0</td>\n",
              "      <td>1</td>\n",
              "      <td>0</td>\n",
              "      <td>0</td>\n",
              "      <td>0</td>\n",
              "      <td>0</td>\n",
              "      <td>0</td>\n",
              "      <td>1</td>\n",
              "    </tr>\n",
              "  </tbody>\n",
              "</table>\n",
              "</div>"
            ],
            "text/plain": [
              "   1  2  3  4  5  6  7  8  9  10  ...  19  21  22  23  24  25  26  27  28  Sum\n",
              "0  0  0  0  0  0  0  0  0  0   0  ...   0   0   0   0   0   0   1   0   0    1\n",
              "1  0  0  0  0  0  0  0  0  0   0  ...   0   0   0   0   0   0   0   0   0    0\n",
              "2  0  0  0  0  0  0  0  0  0   0  ...   0   0   0   1   0   0   0   0   0    1\n",
              "\n",
              "[3 rows x 28 columns]"
            ]
          },
          "metadata": {},
          "execution_count": 12
        }
      ]
    },
    {
      "cell_type": "code",
      "metadata": {
        "colab": {
          "base_uri": "https://localhost:8080/"
        },
        "id": "2y7EubwbpjYE",
        "outputId": "27b47c78-662a-4936-957b-6537b80da6bc"
      },
      "source": [
        "#Checking values of 'Reasons for absence'\n",
        "Reason_dummies.iloc[:, 0:27].columns.values"
      ],
      "execution_count": null,
      "outputs": [
        {
          "output_type": "execute_result",
          "data": {
            "text/plain": [
              "array([1, 2, 3, 4, 5, 6, 7, 8, 9, 10, 11, 12, 13, 14, 15, 16, 17, 18, 19,\n",
              "       21, 22, 23, 24, 25, 26, 27, 28], dtype=object)"
            ]
          },
          "metadata": {},
          "execution_count": 13
        }
      ]
    },
    {
      "cell_type": "code",
      "metadata": {
        "id": "lWILX2eqtAl8"
      },
      "source": [
        "#List of reasons for absence\n",
        "#from google.colab import files\n",
        "#from io import BytesIO\n",
        "#from PIL import Image\n",
        "\n",
        "#uploaded = files.upload()\n",
        "#im = Image.open(BytesIO(uploaded['Absence_reasons.png']))"
      ],
      "execution_count": null,
      "outputs": []
    },
    {
      "cell_type": "code",
      "metadata": {
        "id": "vqXzIfObtBgf"
      },
      "source": [
        "#Resizing the image\n",
        "#Import library\n",
        "#from IPython.display import Image\n",
        "#Load image from local storage\n",
        "#Image(filename = \"Absence_reasons.png\", width = 60000, height = 400)"
      ],
      "execution_count": null,
      "outputs": []
    },
    {
      "cell_type": "code",
      "metadata": {
        "id": "Fra6w-DFfYeE"
      },
      "source": [
        "#Grouping 'Reson for absence'\n",
        "#Group1=Diseases (1-14)\n",
        "#Group2=Pregnancy(15-17)\n",
        "#Group3=Others (18-21)\n",
        "#Group4=Health check-up(22-28)"
      ],
      "execution_count": null,
      "outputs": []
    },
    {
      "cell_type": "code",
      "metadata": {
        "colab": {
          "base_uri": "https://localhost:8080/"
        },
        "id": "GFlQCRNrpjYF",
        "outputId": "29e1b21f-13f8-413d-bb66-3139c6a50fa6"
      },
      "source": [
        "#Creating dummies for 'Diseases'\n",
        "Diseases=Reason_dummies.iloc[:,0:14].max(axis=1)\n",
        "Diseases.head()"
      ],
      "execution_count": null,
      "outputs": [
        {
          "output_type": "execute_result",
          "data": {
            "text/plain": [
              "0    0\n",
              "1    0\n",
              "2    0\n",
              "3    1\n",
              "4    0\n",
              "dtype: uint8"
            ]
          },
          "metadata": {},
          "execution_count": 17
        }
      ]
    },
    {
      "cell_type": "code",
      "metadata": {
        "id": "5glf7Os2pjYG"
      },
      "source": [
        "#Creating dummies for 'Health Checkup'\n",
        "Health_checkup=Reason_dummies.iloc[:, 14:17].max(axis=1)"
      ],
      "execution_count": null,
      "outputs": []
    },
    {
      "cell_type": "code",
      "metadata": {
        "id": "xkJlLQD9pjYG"
      },
      "source": [
        "#Creating dummies for 'other' reasons\n",
        "Others=Reason_dummies.iloc[:, 17:20].max(axis=1)"
      ],
      "execution_count": null,
      "outputs": []
    },
    {
      "cell_type": "code",
      "metadata": {
        "id": "3CbQQeTdpjYH"
      },
      "source": [
        "#Creating dummies for pregnancy\n",
        "Pregnancy=Reason_dummies.iloc[:, 20:27].max(axis=1)"
      ],
      "execution_count": null,
      "outputs": []
    },
    {
      "cell_type": "code",
      "metadata": {
        "id": "QWOKjP3E0QWg"
      },
      "source": [
        "#Adding 'Reason' dummies to the data frame \n",
        "df_edit=pd.concat([df_edit, Diseases, Health_checkup, Others, Pregnancy], axis=1)"
      ],
      "execution_count": null,
      "outputs": []
    },
    {
      "cell_type": "code",
      "metadata": {
        "colab": {
          "base_uri": "https://localhost:8080/",
          "height": 184
        },
        "id": "4Kn-MRVupjYJ",
        "outputId": "9ea69d18-f532-461f-deb9-1e8cac98387b"
      },
      "source": [
        "#Renaming the 'Reason' dummy columns\n",
        "df_edit = df_edit.rename(columns={0: 'Diseases', 1: 'Health_checkup', 2:'Others', 3:'Pregnancy'})\n",
        "df_edit.head(2)"
      ],
      "execution_count": null,
      "outputs": [
        {
          "output_type": "execute_result",
          "data": {
            "text/html": [
              "<div>\n",
              "<style scoped>\n",
              "    .dataframe tbody tr th:only-of-type {\n",
              "        vertical-align: middle;\n",
              "    }\n",
              "\n",
              "    .dataframe tbody tr th {\n",
              "        vertical-align: top;\n",
              "    }\n",
              "\n",
              "    .dataframe thead th {\n",
              "        text-align: right;\n",
              "    }\n",
              "</style>\n",
              "<table border=\"1\" class=\"dataframe\">\n",
              "  <thead>\n",
              "    <tr style=\"text-align: right;\">\n",
              "      <th></th>\n",
              "      <th>Reason for Absence</th>\n",
              "      <th>Date</th>\n",
              "      <th>Transportation Expense</th>\n",
              "      <th>Distance to Work</th>\n",
              "      <th>Age</th>\n",
              "      <th>Daily Work Load Average</th>\n",
              "      <th>Body Mass Index</th>\n",
              "      <th>Education</th>\n",
              "      <th>Children</th>\n",
              "      <th>Pets</th>\n",
              "      <th>Absenteeism Time in Days</th>\n",
              "      <th>Diseases</th>\n",
              "      <th>Health_checkup</th>\n",
              "      <th>Others</th>\n",
              "      <th>Pregnancy</th>\n",
              "    </tr>\n",
              "  </thead>\n",
              "  <tbody>\n",
              "    <tr>\n",
              "      <th>0</th>\n",
              "      <td>26</td>\n",
              "      <td>7/7/2015</td>\n",
              "      <td>289</td>\n",
              "      <td>36</td>\n",
              "      <td>33</td>\n",
              "      <td>239.554</td>\n",
              "      <td>30</td>\n",
              "      <td>1</td>\n",
              "      <td>2</td>\n",
              "      <td>1</td>\n",
              "      <td>4</td>\n",
              "      <td>0</td>\n",
              "      <td>0</td>\n",
              "      <td>0</td>\n",
              "      <td>1</td>\n",
              "    </tr>\n",
              "    <tr>\n",
              "      <th>1</th>\n",
              "      <td>0</td>\n",
              "      <td>14/07/2015</td>\n",
              "      <td>118</td>\n",
              "      <td>13</td>\n",
              "      <td>50</td>\n",
              "      <td>239.554</td>\n",
              "      <td>31</td>\n",
              "      <td>1</td>\n",
              "      <td>1</td>\n",
              "      <td>0</td>\n",
              "      <td>0</td>\n",
              "      <td>0</td>\n",
              "      <td>0</td>\n",
              "      <td>0</td>\n",
              "      <td>0</td>\n",
              "    </tr>\n",
              "  </tbody>\n",
              "</table>\n",
              "</div>"
            ],
            "text/plain": [
              "   Reason for Absence        Date  ...  Others  Pregnancy\n",
              "0                  26    7/7/2015  ...       0          1\n",
              "1                   0  14/07/2015  ...       0          0\n",
              "\n",
              "[2 rows x 15 columns]"
            ]
          },
          "metadata": {},
          "execution_count": 22
        }
      ]
    },
    {
      "cell_type": "code",
      "metadata": {
        "colab": {
          "base_uri": "https://localhost:8080/",
          "height": 147
        },
        "id": "4CmE4fElpjYH",
        "outputId": "16773384-397a-4e5f-df65-85bdce84b1a4"
      },
      "source": [
        "#Dropping 'Reason for Absence'\n",
        "df_edit=df_edit.drop(['Reason for Absence'], axis=1)\n",
        "df_edit.head(2)"
      ],
      "execution_count": null,
      "outputs": [
        {
          "output_type": "execute_result",
          "data": {
            "text/html": [
              "<div>\n",
              "<style scoped>\n",
              "    .dataframe tbody tr th:only-of-type {\n",
              "        vertical-align: middle;\n",
              "    }\n",
              "\n",
              "    .dataframe tbody tr th {\n",
              "        vertical-align: top;\n",
              "    }\n",
              "\n",
              "    .dataframe thead th {\n",
              "        text-align: right;\n",
              "    }\n",
              "</style>\n",
              "<table border=\"1\" class=\"dataframe\">\n",
              "  <thead>\n",
              "    <tr style=\"text-align: right;\">\n",
              "      <th></th>\n",
              "      <th>Date</th>\n",
              "      <th>Transportation Expense</th>\n",
              "      <th>Distance to Work</th>\n",
              "      <th>Age</th>\n",
              "      <th>Daily Work Load Average</th>\n",
              "      <th>Body Mass Index</th>\n",
              "      <th>Education</th>\n",
              "      <th>Children</th>\n",
              "      <th>Pets</th>\n",
              "      <th>Absenteeism Time in Days</th>\n",
              "      <th>Diseases</th>\n",
              "      <th>Health_checkup</th>\n",
              "      <th>Others</th>\n",
              "      <th>Pregnancy</th>\n",
              "    </tr>\n",
              "  </thead>\n",
              "  <tbody>\n",
              "    <tr>\n",
              "      <th>0</th>\n",
              "      <td>7/7/2015</td>\n",
              "      <td>289</td>\n",
              "      <td>36</td>\n",
              "      <td>33</td>\n",
              "      <td>239.554</td>\n",
              "      <td>30</td>\n",
              "      <td>1</td>\n",
              "      <td>2</td>\n",
              "      <td>1</td>\n",
              "      <td>4</td>\n",
              "      <td>0</td>\n",
              "      <td>0</td>\n",
              "      <td>0</td>\n",
              "      <td>1</td>\n",
              "    </tr>\n",
              "    <tr>\n",
              "      <th>1</th>\n",
              "      <td>14/07/2015</td>\n",
              "      <td>118</td>\n",
              "      <td>13</td>\n",
              "      <td>50</td>\n",
              "      <td>239.554</td>\n",
              "      <td>31</td>\n",
              "      <td>1</td>\n",
              "      <td>1</td>\n",
              "      <td>0</td>\n",
              "      <td>0</td>\n",
              "      <td>0</td>\n",
              "      <td>0</td>\n",
              "      <td>0</td>\n",
              "      <td>0</td>\n",
              "    </tr>\n",
              "  </tbody>\n",
              "</table>\n",
              "</div>"
            ],
            "text/plain": [
              "         Date  Transportation Expense  ...  Others  Pregnancy\n",
              "0    7/7/2015                     289  ...       0          1\n",
              "1  14/07/2015                     118  ...       0          0\n",
              "\n",
              "[2 rows x 14 columns]"
            ]
          },
          "metadata": {},
          "execution_count": 23
        }
      ]
    },
    {
      "cell_type": "code",
      "metadata": {
        "colab": {
          "base_uri": "https://localhost:8080/"
        },
        "id": "BA81_jk8pjXn",
        "outputId": "3adda0e8-0b03-4a02-b8c2-c3048d296f5a"
      },
      "source": [
        "# Analyzing reasons for absence\n",
        "df_edit.columns.values"
      ],
      "execution_count": null,
      "outputs": [
        {
          "output_type": "execute_result",
          "data": {
            "text/plain": [
              "array(['Date', 'Transportation Expense', 'Distance to Work', 'Age',\n",
              "       'Daily Work Load Average', 'Body Mass Index', 'Education',\n",
              "       'Children', 'Pets', 'Absenteeism Time in Days', 'Diseases',\n",
              "       'Health_checkup', 'Others', 'Pregnancy'], dtype=object)"
            ]
          },
          "metadata": {},
          "execution_count": 24
        }
      ]
    },
    {
      "cell_type": "code",
      "metadata": {
        "colab": {
          "base_uri": "https://localhost:8080/"
        },
        "id": "HnM8hfuOpjYO",
        "outputId": "4ef123fc-bb1d-4142-a4f0-8b0d63703511"
      },
      "source": [
        "#Analyzing the 'Date' column\n",
        "df_edit['Date'].head()"
      ],
      "execution_count": null,
      "outputs": [
        {
          "output_type": "execute_result",
          "data": {
            "text/plain": [
              "0      7/7/2015\n",
              "1    14/07/2015\n",
              "2    15/07/2015\n",
              "3    16/07/2015\n",
              "4    23/07/2015\n",
              "Name: Date, dtype: object"
            ]
          },
          "metadata": {},
          "execution_count": 25
        }
      ]
    },
    {
      "cell_type": "code",
      "metadata": {
        "colab": {
          "base_uri": "https://localhost:8080/"
        },
        "id": "V8Ji5sy7pjYO",
        "outputId": "222c1523-0c4c-4895-d523-ca20734ca76b"
      },
      "source": [
        "#Checking the data type of date\n",
        "type(df_edit['Date'])"
      ],
      "execution_count": null,
      "outputs": [
        {
          "output_type": "execute_result",
          "data": {
            "text/plain": [
              "pandas.core.series.Series"
            ]
          },
          "metadata": {},
          "execution_count": 26
        }
      ]
    },
    {
      "cell_type": "code",
      "metadata": {
        "colab": {
          "base_uri": "https://localhost:8080/"
        },
        "id": "dKmOsOzOpjYP",
        "outputId": "58e6455b-0269-4e63-a064-b4d893e83a73"
      },
      "source": [
        "#Checking the data type of first part of date\n",
        "type(df_edit['Date'][0])"
      ],
      "execution_count": null,
      "outputs": [
        {
          "output_type": "execute_result",
          "data": {
            "text/plain": [
              "str"
            ]
          },
          "metadata": {},
          "execution_count": 27
        }
      ]
    },
    {
      "cell_type": "code",
      "metadata": {
        "colab": {
          "base_uri": "https://localhost:8080/"
        },
        "id": "B5ecYAlQpjYP",
        "scrolled": false,
        "outputId": "6cb9b60f-19ce-4070-e45b-9f8fcc7e700b"
      },
      "source": [
        "#Putting 'Date' in Y/M/D format in Timestamp series\n",
        "df_edit['Date']=pd.to_datetime(df_edit['Date'], format='%d/%m/%Y')\n",
        "df_edit['Date'].head()"
      ],
      "execution_count": null,
      "outputs": [
        {
          "output_type": "execute_result",
          "data": {
            "text/plain": [
              "0   2015-07-07\n",
              "1   2015-07-14\n",
              "2   2015-07-15\n",
              "3   2015-07-16\n",
              "4   2015-07-23\n",
              "Name: Date, dtype: datetime64[ns]"
            ]
          },
          "metadata": {},
          "execution_count": 28
        }
      ]
    },
    {
      "cell_type": "code",
      "metadata": {
        "colab": {
          "base_uri": "https://localhost:8080/"
        },
        "id": "TVU_cH9spjYQ",
        "outputId": "2d1f8398-7325-4221-d4bf-13a7a3fd3de3"
      },
      "source": [
        "#Extracting Month value\n",
        "list_months=[]\n",
        "list_months\n",
        "\n",
        "for i in range(700):\n",
        "                    list_months.append(df_edit['Date'][i].month)        \n",
        "\n",
        "list_months[0:20]"
      ],
      "execution_count": null,
      "outputs": [
        {
          "output_type": "execute_result",
          "data": {
            "text/plain": [
              "[7, 7, 7, 7, 7, 7, 7, 7, 7, 7, 7, 7, 7, 7, 7, 7, 7, 7, 7, 8]"
            ]
          },
          "metadata": {},
          "execution_count": 29
        }
      ]
    },
    {
      "cell_type": "code",
      "metadata": {
        "colab": {
          "base_uri": "https://localhost:8080/",
          "height": 199
        },
        "id": "ZYvvTCH2pjYQ",
        "outputId": "ac10cef0-d517-4af6-ef4c-df424d107a06"
      },
      "source": [
        "df_edit['Month value']=list_months\n",
        "df_edit.head(2)"
      ],
      "execution_count": null,
      "outputs": [
        {
          "output_type": "execute_result",
          "data": {
            "text/html": [
              "<div>\n",
              "<style scoped>\n",
              "    .dataframe tbody tr th:only-of-type {\n",
              "        vertical-align: middle;\n",
              "    }\n",
              "\n",
              "    .dataframe tbody tr th {\n",
              "        vertical-align: top;\n",
              "    }\n",
              "\n",
              "    .dataframe thead th {\n",
              "        text-align: right;\n",
              "    }\n",
              "</style>\n",
              "<table border=\"1\" class=\"dataframe\">\n",
              "  <thead>\n",
              "    <tr style=\"text-align: right;\">\n",
              "      <th></th>\n",
              "      <th>Date</th>\n",
              "      <th>Transportation Expense</th>\n",
              "      <th>Distance to Work</th>\n",
              "      <th>Age</th>\n",
              "      <th>Daily Work Load Average</th>\n",
              "      <th>Body Mass Index</th>\n",
              "      <th>Education</th>\n",
              "      <th>Children</th>\n",
              "      <th>Pets</th>\n",
              "      <th>Absenteeism Time in Days</th>\n",
              "      <th>Diseases</th>\n",
              "      <th>Health_checkup</th>\n",
              "      <th>Others</th>\n",
              "      <th>Pregnancy</th>\n",
              "      <th>Month value</th>\n",
              "    </tr>\n",
              "  </thead>\n",
              "  <tbody>\n",
              "    <tr>\n",
              "      <th>0</th>\n",
              "      <td>2015-07-07</td>\n",
              "      <td>289</td>\n",
              "      <td>36</td>\n",
              "      <td>33</td>\n",
              "      <td>239.554</td>\n",
              "      <td>30</td>\n",
              "      <td>1</td>\n",
              "      <td>2</td>\n",
              "      <td>1</td>\n",
              "      <td>4</td>\n",
              "      <td>0</td>\n",
              "      <td>0</td>\n",
              "      <td>0</td>\n",
              "      <td>1</td>\n",
              "      <td>7</td>\n",
              "    </tr>\n",
              "    <tr>\n",
              "      <th>1</th>\n",
              "      <td>2015-07-14</td>\n",
              "      <td>118</td>\n",
              "      <td>13</td>\n",
              "      <td>50</td>\n",
              "      <td>239.554</td>\n",
              "      <td>31</td>\n",
              "      <td>1</td>\n",
              "      <td>1</td>\n",
              "      <td>0</td>\n",
              "      <td>0</td>\n",
              "      <td>0</td>\n",
              "      <td>0</td>\n",
              "      <td>0</td>\n",
              "      <td>0</td>\n",
              "      <td>7</td>\n",
              "    </tr>\n",
              "  </tbody>\n",
              "</table>\n",
              "</div>"
            ],
            "text/plain": [
              "        Date  Transportation Expense  ...  Pregnancy  Month value\n",
              "0 2015-07-07                     289  ...          1            7\n",
              "1 2015-07-14                     118  ...          0            7\n",
              "\n",
              "[2 rows x 15 columns]"
            ]
          },
          "metadata": {},
          "execution_count": 30
        }
      ]
    },
    {
      "cell_type": "code",
      "metadata": {
        "id": "qHKcHUGrpjYS"
      },
      "source": [
        "#Month function considers no.s from 1-12 & Day of the week considers no.s from 0-6"
      ],
      "execution_count": null,
      "outputs": []
    },
    {
      "cell_type": "code",
      "metadata": {
        "colab": {
          "base_uri": "https://localhost:8080/",
          "height": 219
        },
        "id": "A0LEQ-xrpjYS",
        "outputId": "8486a821-8cf5-4816-cd22-ac83b5a3ac20"
      },
      "source": [
        "#Extracting 'Day of the Week'\n",
        "\n",
        "def date_to_weekday(date_value):\n",
        "    return date_value.weekday()\n",
        "\n",
        "df_edit['Day of the Week']=df_edit['Date'].apply(date_to_weekday)\n",
        "df_edit.head(2)"
      ],
      "execution_count": null,
      "outputs": [
        {
          "output_type": "execute_result",
          "data": {
            "text/html": [
              "<div>\n",
              "<style scoped>\n",
              "    .dataframe tbody tr th:only-of-type {\n",
              "        vertical-align: middle;\n",
              "    }\n",
              "\n",
              "    .dataframe tbody tr th {\n",
              "        vertical-align: top;\n",
              "    }\n",
              "\n",
              "    .dataframe thead th {\n",
              "        text-align: right;\n",
              "    }\n",
              "</style>\n",
              "<table border=\"1\" class=\"dataframe\">\n",
              "  <thead>\n",
              "    <tr style=\"text-align: right;\">\n",
              "      <th></th>\n",
              "      <th>Date</th>\n",
              "      <th>Transportation Expense</th>\n",
              "      <th>Distance to Work</th>\n",
              "      <th>Age</th>\n",
              "      <th>Daily Work Load Average</th>\n",
              "      <th>Body Mass Index</th>\n",
              "      <th>Education</th>\n",
              "      <th>Children</th>\n",
              "      <th>Pets</th>\n",
              "      <th>Absenteeism Time in Days</th>\n",
              "      <th>Diseases</th>\n",
              "      <th>Health_checkup</th>\n",
              "      <th>Others</th>\n",
              "      <th>Pregnancy</th>\n",
              "      <th>Month value</th>\n",
              "      <th>Day of the Week</th>\n",
              "    </tr>\n",
              "  </thead>\n",
              "  <tbody>\n",
              "    <tr>\n",
              "      <th>0</th>\n",
              "      <td>2015-07-07</td>\n",
              "      <td>289</td>\n",
              "      <td>36</td>\n",
              "      <td>33</td>\n",
              "      <td>239.554</td>\n",
              "      <td>30</td>\n",
              "      <td>1</td>\n",
              "      <td>2</td>\n",
              "      <td>1</td>\n",
              "      <td>4</td>\n",
              "      <td>0</td>\n",
              "      <td>0</td>\n",
              "      <td>0</td>\n",
              "      <td>1</td>\n",
              "      <td>7</td>\n",
              "      <td>1</td>\n",
              "    </tr>\n",
              "    <tr>\n",
              "      <th>1</th>\n",
              "      <td>2015-07-14</td>\n",
              "      <td>118</td>\n",
              "      <td>13</td>\n",
              "      <td>50</td>\n",
              "      <td>239.554</td>\n",
              "      <td>31</td>\n",
              "      <td>1</td>\n",
              "      <td>1</td>\n",
              "      <td>0</td>\n",
              "      <td>0</td>\n",
              "      <td>0</td>\n",
              "      <td>0</td>\n",
              "      <td>0</td>\n",
              "      <td>0</td>\n",
              "      <td>7</td>\n",
              "      <td>1</td>\n",
              "    </tr>\n",
              "  </tbody>\n",
              "</table>\n",
              "</div>"
            ],
            "text/plain": [
              "        Date  Transportation Expense  ...  Month value  Day of the Week\n",
              "0 2015-07-07                     289  ...            7                1\n",
              "1 2015-07-14                     118  ...            7                1\n",
              "\n",
              "[2 rows x 16 columns]"
            ]
          },
          "metadata": {},
          "execution_count": 32
        }
      ]
    },
    {
      "cell_type": "code",
      "metadata": {
        "colab": {
          "base_uri": "https://localhost:8080/"
        },
        "id": "6t385SMsi0eA",
        "outputId": "6014c255-5c54-4726-c131-5bd56b217fdf"
      },
      "source": [
        "#Checking unique values of 'Month'\n",
        "month_sort=df_edit['Month value'].unique()\n",
        "print(sorted(month_sort))"
      ],
      "execution_count": null,
      "outputs": [
        {
          "output_type": "stream",
          "name": "stdout",
          "text": [
            "[1, 2, 3, 4, 5, 6, 7, 8, 9, 10, 11, 12]\n"
          ]
        }
      ]
    },
    {
      "cell_type": "code",
      "metadata": {
        "colab": {
          "base_uri": "https://localhost:8080/"
        },
        "id": "RaUTPKJjjSfu",
        "outputId": "1314e34f-56a6-4aae-a2de-dd8d7b0f16a0"
      },
      "source": [
        "#Checking unique values of 'Days of the Week'\n",
        "weekdays_sort=df_edit['Day of the Week'].unique()\n",
        "print(sorted(weekdays_sort))"
      ],
      "execution_count": null,
      "outputs": [
        {
          "output_type": "stream",
          "name": "stdout",
          "text": [
            "[0, 1, 2, 3, 4, 5, 6]\n"
          ]
        }
      ]
    },
    {
      "cell_type": "code",
      "metadata": {
        "id": "WYOLKaRHpjYT"
      },
      "source": [
        "#Dropping 'Date' column\n",
        "df_edit=df_edit.drop(['Date'], axis=1)"
      ],
      "execution_count": null,
      "outputs": []
    },
    {
      "cell_type": "code",
      "metadata": {
        "colab": {
          "base_uri": "https://localhost:8080/"
        },
        "id": "SDQ16hzgx-ph",
        "outputId": "6d3e2fe9-5e24-4f00-9949-e0292b5eb593"
      },
      "source": [
        "#Checking Transportation expense\n",
        "trans_sort=df_edit['Transportation Expense'].unique()\n",
        "print(sorted(trans_sort))"
      ],
      "execution_count": null,
      "outputs": [
        {
          "output_type": "stream",
          "name": "stdout",
          "text": [
            "[118, 155, 157, 179, 184, 189, 225, 228, 231, 233, 235, 246, 248, 260, 268, 279, 289, 291, 300, 330, 361, 369, 378, 388]\n"
          ]
        }
      ]
    },
    {
      "cell_type": "code",
      "metadata": {
        "colab": {
          "base_uri": "https://localhost:8080/"
        },
        "id": "gCbOuAsUykFA",
        "outputId": "f375d4b3-6b8c-4d47-e19a-2a08baa82625"
      },
      "source": [
        "#Understanding distance to work (to & fro in km)\n",
        "dist_sort=df_edit['Distance to Work'].unique()\n",
        "print(sorted(dist_sort))"
      ],
      "execution_count": null,
      "outputs": [
        {
          "output_type": "stream",
          "name": "stdout",
          "text": [
            "[5, 10, 11, 12, 13, 14, 15, 16, 17, 20, 22, 25, 26, 27, 29, 31, 35, 36, 42, 48, 49, 50, 51, 52]\n"
          ]
        }
      ]
    },
    {
      "cell_type": "code",
      "metadata": {
        "colab": {
          "base_uri": "https://localhost:8080/"
        },
        "id": "HVy1paJdzwhC",
        "outputId": "f62fa8c1-c996-4971-feff-2b569c5c3034"
      },
      "source": [
        "#Analyzing 'Age'\n",
        "age_sort=df_edit['Age'].unique()\n",
        "print(sorted(age_sort))"
      ],
      "execution_count": null,
      "outputs": [
        {
          "output_type": "stream",
          "name": "stdout",
          "text": [
            "[27, 28, 29, 30, 31, 32, 33, 34, 36, 37, 38, 39, 40, 41, 43, 46, 47, 48, 49, 50, 58]\n"
          ]
        }
      ]
    },
    {
      "cell_type": "code",
      "metadata": {
        "colab": {
          "base_uri": "https://localhost:8080/"
        },
        "id": "4h99l7PBz9-L",
        "outputId": "c915c64a-b937-4605-b308-81b9b75c4c95"
      },
      "source": [
        "#Analyzing 'daily workload average'\n",
        "workload_sort=df_edit['Daily Work Load Average'].unique()\n",
        "print(sorted(workload_sort))"
      ],
      "execution_count": null,
      "outputs": [
        {
          "output_type": "stream",
          "name": "stdout",
          "text": [
            "[205.917, 222.196, 230.29, 236.62900000000002, 237.65599999999998, 239.40900000000002, 239.554, 241.476, 244.387, 246.074, 246.28799999999998, 249.797, 251.81799999999998, 253.465, 253.957, 261.306, 261.756, 264.249, 265.017, 265.615, 268.519, 275.312, 280.54900000000004, 284.031, 284.853, 294.217, 302.585, 306.345, 308.593, 313.532, 326.452, 330.061, 343.25300000000004, 377.55, 378.884]\n"
          ]
        }
      ]
    },
    {
      "cell_type": "code",
      "metadata": {
        "colab": {
          "base_uri": "https://localhost:8080/",
          "height": 164
        },
        "id": "NiayTGYV_I3O",
        "outputId": "17d98e4d-2234-41de-9628-0d07ef42eb1d"
      },
      "source": [
        "#Converting daily workload from minutes to hours\n",
        "def min_to_hr(time):\n",
        "      return (time/60)\n",
        "\n",
        "df_edit['Daily Work Load Average']=df_edit['Daily Work Load Average'].map(min_to_hr)\n",
        "df_edit.head(2)"
      ],
      "execution_count": null,
      "outputs": [
        {
          "output_type": "execute_result",
          "data": {
            "text/html": [
              "<div>\n",
              "<style scoped>\n",
              "    .dataframe tbody tr th:only-of-type {\n",
              "        vertical-align: middle;\n",
              "    }\n",
              "\n",
              "    .dataframe tbody tr th {\n",
              "        vertical-align: top;\n",
              "    }\n",
              "\n",
              "    .dataframe thead th {\n",
              "        text-align: right;\n",
              "    }\n",
              "</style>\n",
              "<table border=\"1\" class=\"dataframe\">\n",
              "  <thead>\n",
              "    <tr style=\"text-align: right;\">\n",
              "      <th></th>\n",
              "      <th>Transportation Expense</th>\n",
              "      <th>Distance to Work</th>\n",
              "      <th>Age</th>\n",
              "      <th>Daily Work Load Average</th>\n",
              "      <th>Body Mass Index</th>\n",
              "      <th>Education</th>\n",
              "      <th>Children</th>\n",
              "      <th>Pets</th>\n",
              "      <th>Absenteeism Time in Days</th>\n",
              "      <th>Diseases</th>\n",
              "      <th>Health_checkup</th>\n",
              "      <th>Others</th>\n",
              "      <th>Pregnancy</th>\n",
              "      <th>Month value</th>\n",
              "      <th>Day of the Week</th>\n",
              "    </tr>\n",
              "  </thead>\n",
              "  <tbody>\n",
              "    <tr>\n",
              "      <th>0</th>\n",
              "      <td>289</td>\n",
              "      <td>36</td>\n",
              "      <td>33</td>\n",
              "      <td>3.992567</td>\n",
              "      <td>30</td>\n",
              "      <td>1</td>\n",
              "      <td>2</td>\n",
              "      <td>1</td>\n",
              "      <td>4</td>\n",
              "      <td>0</td>\n",
              "      <td>0</td>\n",
              "      <td>0</td>\n",
              "      <td>1</td>\n",
              "      <td>7</td>\n",
              "      <td>1</td>\n",
              "    </tr>\n",
              "    <tr>\n",
              "      <th>1</th>\n",
              "      <td>118</td>\n",
              "      <td>13</td>\n",
              "      <td>50</td>\n",
              "      <td>3.992567</td>\n",
              "      <td>31</td>\n",
              "      <td>1</td>\n",
              "      <td>1</td>\n",
              "      <td>0</td>\n",
              "      <td>0</td>\n",
              "      <td>0</td>\n",
              "      <td>0</td>\n",
              "      <td>0</td>\n",
              "      <td>0</td>\n",
              "      <td>7</td>\n",
              "      <td>1</td>\n",
              "    </tr>\n",
              "  </tbody>\n",
              "</table>\n",
              "</div>"
            ],
            "text/plain": [
              "   Transportation Expense  Distance to Work  ...  Month value  Day of the Week\n",
              "0                     289                36  ...            7                1\n",
              "1                     118                13  ...            7                1\n",
              "\n",
              "[2 rows x 15 columns]"
            ]
          },
          "metadata": {},
          "execution_count": 40
        }
      ]
    },
    {
      "cell_type": "code",
      "metadata": {
        "colab": {
          "base_uri": "https://localhost:8080/"
        },
        "id": "juZtIpnxpjYV",
        "outputId": "a8e46237-9db6-41e0-8be4-b294bfc47029"
      },
      "source": [
        "#Checking the unique values of 'BMI'\n",
        "BMI_sort=sorted(df_edit['Body Mass Index'].unique())\n",
        "BMI_sort"
      ],
      "execution_count": null,
      "outputs": [
        {
          "output_type": "execute_result",
          "data": {
            "text/plain": [
              "[19, 21, 22, 23, 24, 25, 27, 28, 29, 30, 31, 32, 33, 35, 36, 38]"
            ]
          },
          "metadata": {},
          "execution_count": 41
        }
      ]
    },
    {
      "cell_type": "code",
      "metadata": {
        "id": "CVK84qUIpjYV"
      },
      "source": [
        "#18-24=Normal, 25-30=Overweight, 30+=Obese"
      ],
      "execution_count": null,
      "outputs": []
    },
    {
      "cell_type": "code",
      "metadata": {
        "colab": {
          "base_uri": "https://localhost:8080/"
        },
        "id": "e1Fth_YX0jVD",
        "outputId": "e311c4ff-d8db-4712-8ff0-c55544ccbece"
      },
      "source": [
        "#Checking the unique values of 'Education'\n",
        "edu_sort=sorted(df_edit['Education'].unique())\n",
        "edu_sort"
      ],
      "execution_count": null,
      "outputs": [
        {
          "output_type": "execute_result",
          "data": {
            "text/plain": [
              "[1, 2, 3, 4]"
            ]
          },
          "metadata": {},
          "execution_count": 43
        }
      ]
    },
    {
      "cell_type": "code",
      "metadata": {
        "colab": {
          "base_uri": "https://localhost:8080/"
        },
        "id": "khix0YpQ1BFh",
        "outputId": "a2e6f381-abaf-484e-8253-89013a877dff"
      },
      "source": [
        "#Checking the unique values of 'Pets'\n",
        "pet_sort=sorted(df_edit['Pets'].unique())\n",
        "pet_sort"
      ],
      "execution_count": null,
      "outputs": [
        {
          "output_type": "execute_result",
          "data": {
            "text/plain": [
              "[0, 1, 2, 4, 5, 8]"
            ]
          },
          "metadata": {},
          "execution_count": 44
        }
      ]
    },
    {
      "cell_type": "markdown",
      "metadata": {
        "id": "nuwXZocz0oS8"
      },
      "source": [
        "4: 'High school', 3: 'Graduate', 2: 'Post graduate', 1: 'Masters or doctor'"
      ]
    },
    {
      "cell_type": "code",
      "metadata": {
        "colab": {
          "base_uri": "https://localhost:8080/"
        },
        "id": "6IIobYEg1CF1",
        "outputId": "b718193a-f1d8-43a5-dbcb-f494daa96c44"
      },
      "source": [
        "#Checking the unique values of 'Children'\n",
        "child_sort=sorted(df_edit['Children'].unique())\n",
        "child_sort"
      ],
      "execution_count": null,
      "outputs": [
        {
          "output_type": "execute_result",
          "data": {
            "text/plain": [
              "[0, 1, 2, 3, 4]"
            ]
          },
          "metadata": {},
          "execution_count": 45
        }
      ]
    },
    {
      "cell_type": "code",
      "metadata": {
        "id": "xVp8xfYXB9FZ"
      },
      "source": [
        " #Classifying excessive absenteeism\n",
        " #Acceptable number of days in a month for which an employee can be absent is 3 days. \n",
        " #Hence, any employee absent for more than 3 days would be considered excessively absent.\n",
        "\n",
        "def excess(absenteeism): \n",
        "  if absenteeism>3:\n",
        "    return 1\n",
        "  else:\n",
        "      return 0\n",
        "\n",
        "df_edit['Absenteeism Time in Days'] = df_edit['Absenteeism Time in Days'].map(excess)"
      ],
      "execution_count": null,
      "outputs": []
    },
    {
      "cell_type": "code",
      "metadata": {
        "colab": {
          "base_uri": "https://localhost:8080/",
          "height": 133
        },
        "id": "wjPv33hjAfz9",
        "outputId": "bf9a1776-7224-452d-8423-cc7c3ddc9424"
      },
      "source": [
        "#Renaming 'Absenteeism Time in Days'\n",
        "df_edit = df_edit.rename(columns={'Absenteeism Time in Days': 'Excessive Absenteeism'})\n",
        "df_edit.head(1)"
      ],
      "execution_count": null,
      "outputs": [
        {
          "output_type": "execute_result",
          "data": {
            "text/html": [
              "<div>\n",
              "<style scoped>\n",
              "    .dataframe tbody tr th:only-of-type {\n",
              "        vertical-align: middle;\n",
              "    }\n",
              "\n",
              "    .dataframe tbody tr th {\n",
              "        vertical-align: top;\n",
              "    }\n",
              "\n",
              "    .dataframe thead th {\n",
              "        text-align: right;\n",
              "    }\n",
              "</style>\n",
              "<table border=\"1\" class=\"dataframe\">\n",
              "  <thead>\n",
              "    <tr style=\"text-align: right;\">\n",
              "      <th></th>\n",
              "      <th>Transportation Expense</th>\n",
              "      <th>Distance to Work</th>\n",
              "      <th>Age</th>\n",
              "      <th>Daily Work Load Average</th>\n",
              "      <th>Body Mass Index</th>\n",
              "      <th>Education</th>\n",
              "      <th>Children</th>\n",
              "      <th>Pets</th>\n",
              "      <th>Excessive Absenteeism</th>\n",
              "      <th>Diseases</th>\n",
              "      <th>Health_checkup</th>\n",
              "      <th>Others</th>\n",
              "      <th>Pregnancy</th>\n",
              "      <th>Month value</th>\n",
              "      <th>Day of the Week</th>\n",
              "    </tr>\n",
              "  </thead>\n",
              "  <tbody>\n",
              "    <tr>\n",
              "      <th>0</th>\n",
              "      <td>289</td>\n",
              "      <td>36</td>\n",
              "      <td>33</td>\n",
              "      <td>3.992567</td>\n",
              "      <td>30</td>\n",
              "      <td>1</td>\n",
              "      <td>2</td>\n",
              "      <td>1</td>\n",
              "      <td>1</td>\n",
              "      <td>0</td>\n",
              "      <td>0</td>\n",
              "      <td>0</td>\n",
              "      <td>1</td>\n",
              "      <td>7</td>\n",
              "      <td>1</td>\n",
              "    </tr>\n",
              "  </tbody>\n",
              "</table>\n",
              "</div>"
            ],
            "text/plain": [
              "   Transportation Expense  Distance to Work  ...  Month value  Day of the Week\n",
              "0                     289                36  ...            7                1\n",
              "\n",
              "[1 rows x 15 columns]"
            ]
          },
          "metadata": {},
          "execution_count": 47
        }
      ]
    },
    {
      "cell_type": "code",
      "metadata": {
        "colab": {
          "base_uri": "https://localhost:8080/"
        },
        "id": "kIU-lfiOv3-k",
        "outputId": "15c1cdda-d09e-41a9-f0c3-3f54474f8f17"
      },
      "source": [
        "df_edit.columns.values"
      ],
      "execution_count": null,
      "outputs": [
        {
          "output_type": "execute_result",
          "data": {
            "text/plain": [
              "array(['Transportation Expense', 'Distance to Work', 'Age',\n",
              "       'Daily Work Load Average', 'Body Mass Index', 'Education',\n",
              "       'Children', 'Pets', 'Excessive Absenteeism', 'Diseases',\n",
              "       'Health_checkup', 'Others', 'Pregnancy', 'Month value',\n",
              "       'Day of the Week'], dtype=object)"
            ]
          },
          "metadata": {},
          "execution_count": 48
        }
      ]
    },
    {
      "cell_type": "code",
      "metadata": {
        "id": "I4J5XPwVpjYM"
      },
      "source": [
        "#Reordering columns\n",
        "columns_reordered= ['Transportation Expense', 'Distance to Work', 'Age',\n",
        "       'Daily Work Load Average', 'Body Mass Index', 'Education',\n",
        "       'Children', 'Pets', 'Diseases',\n",
        "       'Health_checkup', 'Others', 'Pregnancy', 'Month value',\n",
        "       'Day of the Week','Excessive Absenteeism']"
      ],
      "execution_count": null,
      "outputs": []
    },
    {
      "cell_type": "code",
      "metadata": {
        "colab": {
          "base_uri": "https://localhost:8080/",
          "height": 133
        },
        "id": "UcvoKvZTpjYN",
        "outputId": "44a69d35-e9c7-4b31-8874-0100f740c394"
      },
      "source": [
        "df_edit=df_edit[columns_reordered]\n",
        "df_edit.head(1)"
      ],
      "execution_count": null,
      "outputs": [
        {
          "output_type": "execute_result",
          "data": {
            "text/html": [
              "<div>\n",
              "<style scoped>\n",
              "    .dataframe tbody tr th:only-of-type {\n",
              "        vertical-align: middle;\n",
              "    }\n",
              "\n",
              "    .dataframe tbody tr th {\n",
              "        vertical-align: top;\n",
              "    }\n",
              "\n",
              "    .dataframe thead th {\n",
              "        text-align: right;\n",
              "    }\n",
              "</style>\n",
              "<table border=\"1\" class=\"dataframe\">\n",
              "  <thead>\n",
              "    <tr style=\"text-align: right;\">\n",
              "      <th></th>\n",
              "      <th>Transportation Expense</th>\n",
              "      <th>Distance to Work</th>\n",
              "      <th>Age</th>\n",
              "      <th>Daily Work Load Average</th>\n",
              "      <th>Body Mass Index</th>\n",
              "      <th>Education</th>\n",
              "      <th>Children</th>\n",
              "      <th>Pets</th>\n",
              "      <th>Diseases</th>\n",
              "      <th>Health_checkup</th>\n",
              "      <th>Others</th>\n",
              "      <th>Pregnancy</th>\n",
              "      <th>Month value</th>\n",
              "      <th>Day of the Week</th>\n",
              "      <th>Excessive Absenteeism</th>\n",
              "    </tr>\n",
              "  </thead>\n",
              "  <tbody>\n",
              "    <tr>\n",
              "      <th>0</th>\n",
              "      <td>289</td>\n",
              "      <td>36</td>\n",
              "      <td>33</td>\n",
              "      <td>3.992567</td>\n",
              "      <td>30</td>\n",
              "      <td>1</td>\n",
              "      <td>2</td>\n",
              "      <td>1</td>\n",
              "      <td>0</td>\n",
              "      <td>0</td>\n",
              "      <td>0</td>\n",
              "      <td>1</td>\n",
              "      <td>7</td>\n",
              "      <td>1</td>\n",
              "      <td>1</td>\n",
              "    </tr>\n",
              "  </tbody>\n",
              "</table>\n",
              "</div>"
            ],
            "text/plain": [
              "   Transportation Expense  ...  Excessive Absenteeism\n",
              "0                     289  ...                      1\n",
              "\n",
              "[1 rows x 15 columns]"
            ]
          },
          "metadata": {},
          "execution_count": 50
        }
      ]
    },
    {
      "cell_type": "markdown",
      "metadata": {
        "id": "FTKRElUn1MMe"
      },
      "source": [
        "**Checking if the dataset is balanced**"
      ]
    },
    {
      "cell_type": "code",
      "metadata": {
        "id": "c8-zAmppHofQ"
      },
      "source": [
        "targets=df_edit['Excessive Absenteeism']"
      ],
      "execution_count": null,
      "outputs": []
    },
    {
      "cell_type": "code",
      "metadata": {
        "colab": {
          "base_uri": "https://localhost:8080/"
        },
        "id": "efc-3V0HpjYg",
        "outputId": "3082289c-21bc-4b7d-ec0c-ef2cf5fa73a4"
      },
      "source": [
        "targets.sum() / targets.shape[0]  #Percentage of 1s, 45-55 split is acceptable"
      ],
      "execution_count": null,
      "outputs": [
        {
          "output_type": "execute_result",
          "data": {
            "text/plain": [
              "0.45571428571428574"
            ]
          },
          "metadata": {},
          "execution_count": 52
        }
      ]
    },
    {
      "cell_type": "markdown",
      "metadata": {
        "id": "O30b1xdd6c-w"
      },
      "source": [
        "**---------------------------------------------------------------------------**"
      ]
    },
    {
      "cell_type": "markdown",
      "metadata": {
        "id": "cHJhVt7sCF17"
      },
      "source": [
        "**Checking variables for multicollinearity**"
      ]
    },
    {
      "cell_type": "code",
      "metadata": {
        "colab": {
          "base_uri": "https://localhost:8080/",
          "height": 527
        },
        "id": "3cUlWUT2s4T3",
        "outputId": "d5d62027-57fe-4886-f408-0a97951bf22e"
      },
      "source": [
        "#Understanding the correlation between features\n",
        "plt.figure(figsize=(30, 10))\n",
        "# define the mask to set the values in the upper triangle to True\n",
        "mask = np.triu(np.ones_like(df_edit.corr(), dtype=np.bool))\n",
        "heatmap = sns.heatmap(df_edit.corr(), mask=mask, vmin=-1, vmax=1, annot=True, cmap='BrBG')\n",
        "heatmap.set_title('Triangle Correlation Heatmap', fontdict={'fontsize':18}, pad=16);"
      ],
      "execution_count": null,
      "outputs": [
        {
          "output_type": "display_data",
          "data": {
            "image/png": "[encoded data removed]",
            "text/plain": [
              "<Figure size 2160x720 with 2 Axes>"
            ]
          },
          "metadata": {
            "needs_background": "light"
          }
        }
      ]
    },
    {
      "cell_type": "markdown",
      "metadata": {
        "id": "W7FTnTrdBj0U"
      },
      "source": [
        "There is a high negative correlation between 'Pregnancy' & 'Diseases'. This can be because pregnancy makes the body less vulnerable to major diseases like Breast Cancer, Ovarian Cancer, Multiple Sclerosis, cuts the risk of autoimmune disease in half, & keeps the heart healthy. Also, pregnant women take better care of their health & get vaccinated which helps them prevent illnesses like food poisoning, flu, & pet borne diseases. "
      ]
    },
    {
      "cell_type": "markdown",
      "metadata": {
        "id": "RRQxcy3hJByw"
      },
      "source": [
        "There is no excessively high correlation between any of the features, hence, there is no issue of multicollinearity."
      ]
    },
    {
      "cell_type": "code",
      "metadata": {
        "colab": {
          "base_uri": "https://localhost:8080/"
        },
        "id": "1AcUa4OgJbaU",
        "outputId": "b29474a8-b5a7-4943-ce43-b5fea997ca61"
      },
      "source": [
        "df_edit.columns.values"
      ],
      "execution_count": null,
      "outputs": [
        {
          "output_type": "execute_result",
          "data": {
            "text/plain": [
              "array(['Transportation Expense', 'Distance to Work', 'Age',\n",
              "       'Daily Work Load Average', 'Body Mass Index', 'Education',\n",
              "       'Children', 'Pets', 'Diseases', 'Health_checkup', 'Others',\n",
              "       'Pregnancy', 'Month value', 'Day of the Week',\n",
              "       'Excessive Absenteeism'], dtype=object)"
            ]
          },
          "metadata": {},
          "execution_count": 54
        }
      ]
    },
    {
      "cell_type": "markdown",
      "metadata": {
        "id": "hDPcKkmBvdG5"
      },
      "source": [
        "**Making a copy of the preprocessed dataset**"
      ]
    },
    {
      "cell_type": "code",
      "metadata": {
        "colab": {
          "base_uri": "https://localhost:8080/",
          "height": 164
        },
        "id": "45cT2cpFvo6P",
        "outputId": "17208572-026e-4d90-a8fa-c81393577d0a"
      },
      "source": [
        "df_preprocessed=df_edit.copy()\n",
        "df_preprocessed.head(2)"
      ],
      "execution_count": null,
      "outputs": [
        {
          "output_type": "execute_result",
          "data": {
            "text/html": [
              "<div>\n",
              "<style scoped>\n",
              "    .dataframe tbody tr th:only-of-type {\n",
              "        vertical-align: middle;\n",
              "    }\n",
              "\n",
              "    .dataframe tbody tr th {\n",
              "        vertical-align: top;\n",
              "    }\n",
              "\n",
              "    .dataframe thead th {\n",
              "        text-align: right;\n",
              "    }\n",
              "</style>\n",
              "<table border=\"1\" class=\"dataframe\">\n",
              "  <thead>\n",
              "    <tr style=\"text-align: right;\">\n",
              "      <th></th>\n",
              "      <th>Transportation Expense</th>\n",
              "      <th>Distance to Work</th>\n",
              "      <th>Age</th>\n",
              "      <th>Daily Work Load Average</th>\n",
              "      <th>Body Mass Index</th>\n",
              "      <th>Education</th>\n",
              "      <th>Children</th>\n",
              "      <th>Pets</th>\n",
              "      <th>Diseases</th>\n",
              "      <th>Health_checkup</th>\n",
              "      <th>Others</th>\n",
              "      <th>Pregnancy</th>\n",
              "      <th>Month value</th>\n",
              "      <th>Day of the Week</th>\n",
              "      <th>Excessive Absenteeism</th>\n",
              "    </tr>\n",
              "  </thead>\n",
              "  <tbody>\n",
              "    <tr>\n",
              "      <th>0</th>\n",
              "      <td>289</td>\n",
              "      <td>36</td>\n",
              "      <td>33</td>\n",
              "      <td>3.992567</td>\n",
              "      <td>30</td>\n",
              "      <td>1</td>\n",
              "      <td>2</td>\n",
              "      <td>1</td>\n",
              "      <td>0</td>\n",
              "      <td>0</td>\n",
              "      <td>0</td>\n",
              "      <td>1</td>\n",
              "      <td>7</td>\n",
              "      <td>1</td>\n",
              "      <td>1</td>\n",
              "    </tr>\n",
              "    <tr>\n",
              "      <th>1</th>\n",
              "      <td>118</td>\n",
              "      <td>13</td>\n",
              "      <td>50</td>\n",
              "      <td>3.992567</td>\n",
              "      <td>31</td>\n",
              "      <td>1</td>\n",
              "      <td>1</td>\n",
              "      <td>0</td>\n",
              "      <td>0</td>\n",
              "      <td>0</td>\n",
              "      <td>0</td>\n",
              "      <td>0</td>\n",
              "      <td>7</td>\n",
              "      <td>1</td>\n",
              "      <td>0</td>\n",
              "    </tr>\n",
              "  </tbody>\n",
              "</table>\n",
              "</div>"
            ],
            "text/plain": [
              "   Transportation Expense  ...  Excessive Absenteeism\n",
              "0                     289  ...                      1\n",
              "1                     118  ...                      0\n",
              "\n",
              "[2 rows x 15 columns]"
            ]
          },
          "metadata": {},
          "execution_count": 55
        }
      ]
    },
    {
      "cell_type": "markdown",
      "metadata": {
        "id": "8dF9tlTX-D2X"
      },
      "source": [
        "**Selecting the inputs**"
      ]
    },
    {
      "cell_type": "code",
      "metadata": {
        "colab": {
          "base_uri": "https://localhost:8080/"
        },
        "id": "Ck8yvLSY-GyS",
        "outputId": "9a9860b1-0d28-4050-b874-617fda0276ff"
      },
      "source": [
        "df_preprocessed.shape"
      ],
      "execution_count": null,
      "outputs": [
        {
          "output_type": "execute_result",
          "data": {
            "text/plain": [
              "(700, 15)"
            ]
          },
          "metadata": {},
          "execution_count": 56
        }
      ]
    },
    {
      "cell_type": "code",
      "metadata": {
        "id": "_PmWxaesps8b"
      },
      "source": [
        "# Selects all rows and all columns until targets\n",
        "unscaled_inputs=df_preprocessed.iloc[:,:-1]\n",
        "targets=df_preprocessed['Excessive Absenteeism']     #Adding targets to the dataframe"
      ],
      "execution_count": null,
      "outputs": []
    },
    {
      "cell_type": "markdown",
      "metadata": {
        "id": "4xD3PGg1AP-q"
      },
      "source": [
        "**Data standardization**"
      ]
    },
    {
      "cell_type": "code",
      "metadata": {
        "id": "JEDCuBMoAUIh"
      },
      "source": [
        "from sklearn.preprocessing import StandardScaler\n",
        "\n",
        "absenteeism_scaler = StandardScaler() #StandardScaler follows Standard Normal Distribution. Hence, it makes mean = 0 & scales the data to unit variance."
      ],
      "execution_count": null,
      "outputs": []
    },
    {
      "cell_type": "code",
      "metadata": {
        "colab": {
          "base_uri": "https://localhost:8080/"
        },
        "id": "N2oWp0UuXKmB",
        "outputId": "ac431804-9210-4fc2-83fc-ea29a7c260cf"
      },
      "source": [
        "unscaled_inputs.columns.values"
      ],
      "execution_count": null,
      "outputs": [
        {
          "output_type": "execute_result",
          "data": {
            "text/plain": [
              "array(['Transportation Expense', 'Distance to Work', 'Age',\n",
              "       'Daily Work Load Average', 'Body Mass Index', 'Education',\n",
              "       'Children', 'Pets', 'Diseases', 'Health_checkup', 'Others',\n",
              "       'Pregnancy', 'Month value', 'Day of the Week'], dtype=object)"
            ]
          },
          "metadata": {},
          "execution_count": 59
        }
      ]
    },
    {
      "cell_type": "code",
      "metadata": {
        "id": "-HpyORtiWg2-"
      },
      "source": [
        "absenteeism_scaler.fit(unscaled_inputs) #fit() trains & learns the relationship between features\n",
        "\n",
        "scaled_inputs=absenteeism_scaler.transform(unscaled_inputs) #transforms all the features using the respective mean and variance"
      ],
      "execution_count": null,
      "outputs": []
    },
    {
      "cell_type": "code",
      "metadata": {
        "id": "uzyzVSTNwfNy"
      },
      "source": [
        "# declaring 4 variables for the split, random state gives the same output each time the cell is run\n",
        "\n",
        "from sklearn.model_selection import train_test_split\n",
        "x_train, x_test, y_train, y_test = train_test_split(scaled_inputs, targets, train_size = 0.8, \n",
        "                                                                            test_size = 0.2,random_state = 20)"
      ],
      "execution_count": null,
      "outputs": []
    },
    {
      "cell_type": "code",
      "metadata": {
        "colab": {
          "base_uri": "https://localhost:8080/"
        },
        "id": "791Y3LJSs3wJ",
        "outputId": "a04c2466-3481-45ec-815e-310d1d56eb9d"
      },
      "source": [
        "train_test_split(scaled_inputs, targets)              #Array 1,2=train dataset with inputs & targets, Array 3,4=test dataset with inputs & targets "
      ],
      "execution_count": null,
      "outputs": [
        {
          "output_type": "execute_result",
          "data": {
            "text/plain": [
              "[array([[-0.6541427 ,  1.42674947,  0.24830984, ..., -1.21748491,\n",
              "         -0.10278357,  1.34423065],\n",
              "        [-0.6541427 , -0.26313992, -1.00668572, ..., -1.21748491,\n",
              "          1.61027597,  1.34423065],\n",
              "        [ 0.04003371, -0.26313992, -1.32043461, ...,  0.82136542,\n",
              "          1.32476605, -0.68370352],\n",
              "        ...,\n",
              "        [-0.6541427 ,  1.42674947,  0.24830984, ..., -1.21748491,\n",
              "         -0.67380342, -0.00772546],\n",
              "        [ 1.03602595,  0.07483796,  0.56205873, ...,  0.82136542,\n",
              "          0.7537462 , -0.68370352],\n",
              "        [-0.6541427 ,  1.42674947,  0.24830984, ...,  0.82136542,\n",
              "          1.32476605,  0.66825259]]),\n",
              " array([[ 1.03602595,  0.07483796,  0.56205873, ...,  0.82136542,\n",
              "          1.03925612,  1.34423065],\n",
              "        [-0.6541427 ,  1.42674947,  0.24830984, ...,  0.82136542,\n",
              "         -1.24482327, -1.35968157],\n",
              "        [ 0.35694034, -0.33073549,  0.71893317, ...,  0.82136542,\n",
              "         -0.95931334, -0.68370352],\n",
              "        ...,\n",
              "        [ 0.56821142,  1.3591539 , -0.06543905, ..., -1.21748491,\n",
              "          1.03925612,  0.66825259],\n",
              "        [-1.57468098, -1.1418824 ,  2.13080317, ..., -1.21748491,\n",
              "          0.7537462 , -0.68370352],\n",
              "        [ 1.03602595,  0.07483796,  0.56205873, ...,  0.82136542,\n",
              "         -0.95931334, -0.00772546]]),\n",
              " 233    0\n",
              " 558    0\n",
              " 547    0\n",
              " 274    1\n",
              " 219    1\n",
              "       ..\n",
              " 282    1\n",
              " 657    1\n",
              " 191    1\n",
              " 275    0\n",
              " 338    0\n",
              " Name: Excessive Absenteeism, Length: 525, dtype: int64,\n",
              " 514    0\n",
              " 381    0\n",
              " 411    0\n",
              " 571    1\n",
              " 615    0\n",
              "       ..\n",
              " 595    0\n",
              " 395    1\n",
              " 311    0\n",
              " 55     0\n",
              " 159    1\n",
              " Name: Excessive Absenteeism, Length: 175, dtype: int64]"
            ]
          },
          "metadata": {},
          "execution_count": 62
        }
      ]
    },
    {
      "cell_type": "markdown",
      "metadata": {
        "id": "WJzto_Iq0We9"
      },
      "source": [
        "**1. Logistic regression**"
      ]
    },
    {
      "cell_type": "markdown",
      "metadata": {
        "id": "NQIAEIAk07Jk"
      },
      "source": [
        "**Training the model**"
      ]
    },
    {
      "cell_type": "code",
      "metadata": {
        "colab": {
          "base_uri": "https://localhost:8080/"
        },
        "id": "LecqOKIh0-EN",
        "outputId": "cf44af37-93bd-452a-cbb3-9692946e206a"
      },
      "source": [
        "from sklearn.linear_model import LogisticRegression\n",
        "\n",
        "reg = LogisticRegression() \n",
        "\n",
        "reg.fit(x_train,y_train)\n",
        "\n",
        "print('Accuracy of logistic regression classifier on train set: {:.2f}'.format(reg.score(x_train, y_train)))"
      ],
      "execution_count": null,
      "outputs": [
        {
          "output_type": "stream",
          "name": "stdout",
          "text": [
            "Accuracy of logistic regression classifier on train set: 0.79\n"
          ]
        }
      ]
    },
    {
      "cell_type": "markdown",
      "metadata": {
        "id": "_k2EXcqCMQff"
      },
      "source": [
        "*score() calculates the accuracy while predict() predicts the outputs*"
      ]
    },
    {
      "cell_type": "markdown",
      "metadata": {
        "id": "goZER0rdNzsx"
      },
      "source": [
        "**Checking the accuracy manually**"
      ]
    },
    {
      "cell_type": "code",
      "metadata": {
        "id": "x3ptnj5LN23D"
      },
      "source": [
        "# finding the model outputs according to our model\n",
        "model_outputs = reg.predict(x_train)"
      ],
      "execution_count": null,
      "outputs": []
    },
    {
      "cell_type": "code",
      "metadata": {
        "colab": {
          "base_uri": "https://localhost:8080/"
        },
        "id": "zOevLQVbOPhn",
        "outputId": "bb181301-f15c-4e4d-ba86-dd21da74c7ed"
      },
      "source": [
        "# find out in how many instances we predicted correctly\n",
        "np.sum((model_outputs==y_train))"
      ],
      "execution_count": null,
      "outputs": [
        {
          "output_type": "execute_result",
          "data": {
            "text/plain": [
              "440"
            ]
          },
          "metadata": {},
          "execution_count": 65
        }
      ]
    },
    {
      "cell_type": "code",
      "metadata": {
        "colab": {
          "base_uri": "https://localhost:8080/"
        },
        "id": "Llhe_JQuOP_3",
        "outputId": "e7b6cbb8-0b39-457e-85d1-2a4a6541bb95"
      },
      "source": [
        "# get the total number of instances\n",
        "model_outputs.shape[0]"
      ],
      "execution_count": null,
      "outputs": [
        {
          "output_type": "execute_result",
          "data": {
            "text/plain": [
              "560"
            ]
          },
          "metadata": {},
          "execution_count": 66
        }
      ]
    },
    {
      "cell_type": "code",
      "metadata": {
        "colab": {
          "base_uri": "https://localhost:8080/"
        },
        "id": "ds9tmcSlOWSx",
        "outputId": "15de0acd-dde1-4e74-ce93-400a549fc6f9"
      },
      "source": [
        "# calculate the accuracy of the model\n",
        "np.sum((model_outputs==y_train)) / model_outputs.shape[0]"
      ],
      "execution_count": null,
      "outputs": [
        {
          "output_type": "execute_result",
          "data": {
            "text/plain": [
              "0.7857142857142857"
            ]
          },
          "metadata": {},
          "execution_count": 67
        }
      ]
    },
    {
      "cell_type": "markdown",
      "metadata": {
        "id": "iHktjbidPLMz"
      },
      "source": [
        "**Testing the model**"
      ]
    },
    {
      "cell_type": "code",
      "metadata": {
        "colab": {
          "base_uri": "https://localhost:8080/"
        },
        "id": "-BzuYKeTF4AS",
        "outputId": "fe00ab31-b9ff-492a-e60d-533efebf0720"
      },
      "source": [
        "#y_pred = reg.predict(x_test)\n",
        "lr_acc=reg.score(x_test, y_test)\n",
        "print('Accuracy of logistic regression classifier on test set: {:.2f}'.format(lr_acc))"
      ],
      "execution_count": null,
      "outputs": [
        {
          "output_type": "stream",
          "name": "stdout",
          "text": [
            "Accuracy of logistic regression classifier on test set: 0.74\n"
          ]
        }
      ]
    },
    {
      "cell_type": "markdown",
      "metadata": {
        "id": "r45-YC109QJT"
      },
      "source": [
        "**Finding the intercepts & co-efficients**"
      ]
    },
    {
      "cell_type": "code",
      "metadata": {
        "colab": {
          "base_uri": "https://localhost:8080/"
        },
        "id": "78PRwCP09T6P",
        "outputId": "35ebd76e-c016-4b8c-d756-0a2dde55f330"
      },
      "source": [
        "# getting the intercept (bias) of our model\n",
        "reg.intercept_"
      ],
      "execution_count": null,
      "outputs": [
        {
          "output_type": "execute_result",
          "data": {
            "text/plain": [
              "array([-0.22294719])"
            ]
          },
          "metadata": {},
          "execution_count": 584
        }
      ]
    },
    {
      "cell_type": "code",
      "metadata": {
        "colab": {
          "base_uri": "https://localhost:8080/"
        },
        "id": "MuBpR92T9qvP",
        "outputId": "2daef3b8-726d-4226-ca48-7032ae8f89e9"
      },
      "source": [
        "# getting the coefficients (weights) of our model\n",
        "reg.coef_"
      ],
      "execution_count": null,
      "outputs": [
        {
          "output_type": "execute_result",
          "data": {
            "text/plain": [
              "array([[ 0.70101952, -0.04027595, -0.20272797, -0.0063544 ,  0.32452205,\n",
              "        -0.13449813,  0.38128906, -0.33133716,  2.07497405,  0.32866118,\n",
              "         1.55748421,  1.32926089,  0.18900507, -0.06599819]])"
            ]
          },
          "metadata": {},
          "execution_count": 585
        }
      ]
    },
    {
      "cell_type": "code",
      "metadata": {
        "id": "BgdTowBB0hH0"
      },
      "source": [
        "# save the names of the columns in an ad-hoc variable\n",
        "feature_name = unscaled_inputs.columns.values"
      ],
      "execution_count": null,
      "outputs": []
    },
    {
      "cell_type": "code",
      "metadata": {
        "id": "gnk-FzEb0eC4"
      },
      "source": [
        "#Preparing a summary table\n",
        "summary_table = pd.DataFrame (columns=['Feature name'], data = feature_name)\n",
        "\n",
        "# adding the coefficient values to the summary table\n",
        "summary_table['Coefficient'] = np.transpose(reg.coef_)    #Transpose to convert arrays from rows to columns"
      ],
      "execution_count": null,
      "outputs": []
    },
    {
      "cell_type": "code",
      "metadata": {
        "id": "-NE6KWIf0bWU"
      },
      "source": [
        "# adding the intercept at index 0\n",
        "summary_table.loc[0] = ['Intercept', reg.intercept_[0]]\n",
        "\n",
        "# sorting the df by index\n",
        "summary_table = summary_table.sort_index()"
      ],
      "execution_count": null,
      "outputs": []
    },
    {
      "cell_type": "code",
      "metadata": {
        "colab": {
          "base_uri": "https://localhost:8080/",
          "height": 488
        },
        "id": "jrQselX7YD_j",
        "outputId": "74a10090-b145-4309-aba5-1319af9ad48f"
      },
      "source": [
        "#Finding the odds ratio of coefficients\n",
        "#Odds are the probability of an event occurring divided by the probability of the event not occurring. \n",
        "#An odds ratio is the odds of the event in one group, for example, those exposed to a drug, divided by the odds in another group not exposed.\n",
        "summary_table['Odds_ratio'] = np.exp(summary_table.Coefficient)\n",
        "summary_table.sort_values('Odds_ratio', ascending=True)"
      ],
      "execution_count": null,
      "outputs": [
        {
          "output_type": "execute_result",
          "data": {
            "text/html": [
              "<div>\n",
              "<style scoped>\n",
              "    .dataframe tbody tr th:only-of-type {\n",
              "        vertical-align: middle;\n",
              "    }\n",
              "\n",
              "    .dataframe tbody tr th {\n",
              "        vertical-align: top;\n",
              "    }\n",
              "\n",
              "    .dataframe thead th {\n",
              "        text-align: right;\n",
              "    }\n",
              "</style>\n",
              "<table border=\"1\" class=\"dataframe\">\n",
              "  <thead>\n",
              "    <tr style=\"text-align: right;\">\n",
              "      <th></th>\n",
              "      <th>Feature name</th>\n",
              "      <th>Coefficient</th>\n",
              "      <th>Odds_ratio</th>\n",
              "    </tr>\n",
              "  </thead>\n",
              "  <tbody>\n",
              "    <tr>\n",
              "      <th>7</th>\n",
              "      <td>Pets</td>\n",
              "      <td>-0.331337</td>\n",
              "      <td>0.717963</td>\n",
              "    </tr>\n",
              "    <tr>\n",
              "      <th>0</th>\n",
              "      <td>Intercept</td>\n",
              "      <td>-0.222947</td>\n",
              "      <td>0.800157</td>\n",
              "    </tr>\n",
              "    <tr>\n",
              "      <th>2</th>\n",
              "      <td>Age</td>\n",
              "      <td>-0.202728</td>\n",
              "      <td>0.816500</td>\n",
              "    </tr>\n",
              "    <tr>\n",
              "      <th>5</th>\n",
              "      <td>Education</td>\n",
              "      <td>-0.134498</td>\n",
              "      <td>0.874155</td>\n",
              "    </tr>\n",
              "    <tr>\n",
              "      <th>13</th>\n",
              "      <td>Day of the Week</td>\n",
              "      <td>-0.065998</td>\n",
              "      <td>0.936133</td>\n",
              "    </tr>\n",
              "    <tr>\n",
              "      <th>1</th>\n",
              "      <td>Distance to Work</td>\n",
              "      <td>-0.040276</td>\n",
              "      <td>0.960524</td>\n",
              "    </tr>\n",
              "    <tr>\n",
              "      <th>3</th>\n",
              "      <td>Daily Work Load Average</td>\n",
              "      <td>-0.006354</td>\n",
              "      <td>0.993666</td>\n",
              "    </tr>\n",
              "    <tr>\n",
              "      <th>12</th>\n",
              "      <td>Month value</td>\n",
              "      <td>0.189005</td>\n",
              "      <td>1.208047</td>\n",
              "    </tr>\n",
              "    <tr>\n",
              "      <th>4</th>\n",
              "      <td>Body Mass Index</td>\n",
              "      <td>0.324522</td>\n",
              "      <td>1.383369</td>\n",
              "    </tr>\n",
              "    <tr>\n",
              "      <th>9</th>\n",
              "      <td>Health_checkup</td>\n",
              "      <td>0.328661</td>\n",
              "      <td>1.389107</td>\n",
              "    </tr>\n",
              "    <tr>\n",
              "      <th>6</th>\n",
              "      <td>Children</td>\n",
              "      <td>0.381289</td>\n",
              "      <td>1.464171</td>\n",
              "    </tr>\n",
              "    <tr>\n",
              "      <th>11</th>\n",
              "      <td>Pregnancy</td>\n",
              "      <td>1.329261</td>\n",
              "      <td>3.778250</td>\n",
              "    </tr>\n",
              "    <tr>\n",
              "      <th>10</th>\n",
              "      <td>Others</td>\n",
              "      <td>1.557484</td>\n",
              "      <td>4.746864</td>\n",
              "    </tr>\n",
              "    <tr>\n",
              "      <th>8</th>\n",
              "      <td>Diseases</td>\n",
              "      <td>2.074974</td>\n",
              "      <td>7.964340</td>\n",
              "    </tr>\n",
              "  </tbody>\n",
              "</table>\n",
              "</div>"
            ],
            "text/plain": [
              "               Feature name  Coefficient  Odds_ratio\n",
              "7                      Pets    -0.331337    0.717963\n",
              "0                 Intercept    -0.222947    0.800157\n",
              "2                       Age    -0.202728    0.816500\n",
              "5                 Education    -0.134498    0.874155\n",
              "13          Day of the Week    -0.065998    0.936133\n",
              "1          Distance to Work    -0.040276    0.960524\n",
              "3   Daily Work Load Average    -0.006354    0.993666\n",
              "12              Month value     0.189005    1.208047\n",
              "4           Body Mass Index     0.324522    1.383369\n",
              "9            Health_checkup     0.328661    1.389107\n",
              "6                  Children     0.381289    1.464171\n",
              "11                Pregnancy     1.329261    3.778250\n",
              "10                   Others     1.557484    4.746864\n",
              "8                  Diseases     2.074974    7.964340"
            ]
          },
          "metadata": {},
          "execution_count": 589
        }
      ]
    },
    {
      "cell_type": "markdown",
      "metadata": {
        "id": "Z7ZZXGDOOS2o"
      },
      "source": [
        "**Odds ratio interpretation: It is 7 times more likely that a person stating reason as 'Disease' is going to be more excessively absent as compared to someone with other reasons.**"
      ]
    },
    {
      "cell_type": "code",
      "metadata": {
        "id": "emzUht-POS2p"
      },
      "source": [
        "#A feature is not important if: it's coefficient is close to 0 or if it's odds ratio is around 1."
      ],
      "execution_count": null,
      "outputs": []
    },
    {
      "cell_type": "markdown",
      "metadata": {
        "id": "gtKyaySPpg8B"
      },
      "source": [
        "**2. Naive Bayes**"
      ]
    },
    {
      "cell_type": "code",
      "metadata": {
        "colab": {
          "base_uri": "https://localhost:8080/"
        },
        "id": "7Hi0njajrKxg",
        "outputId": "c11ce4d8-b280-41da-b2aa-67f5c56feaae"
      },
      "source": [
        "#Import Gaussian Naive Bayes model\n",
        "from sklearn.naive_bayes import GaussianNB\n",
        "\n",
        "#Create a Gaussian Classifier\n",
        "gnb = GaussianNB()\n",
        "\n",
        "#Train the model using the training sets\n",
        "gnb.fit(x_train, y_train)\n",
        "\n",
        "print('Accuracy of Naive Bayes classifier on train set: {:.2f}'.format(gnb.score(x_train, y_train)))"
      ],
      "execution_count": null,
      "outputs": [
        {
          "output_type": "stream",
          "name": "stdout",
          "text": [
            "Accuracy of Naive Bayes classifier on train set: 0.74\n"
          ]
        }
      ]
    },
    {
      "cell_type": "code",
      "metadata": {
        "colab": {
          "base_uri": "https://localhost:8080/"
        },
        "id": "FbovIPU4zQAP",
        "outputId": "deacb449-ef6b-4673-d542-78992ec9ad5d"
      },
      "source": [
        "nb_acc = gnb.score(x_test, y_test)\n",
        "print('Accuracy of Naive Bayes classifier on test set: {:.2f}'.format(nb_acc))\n",
        "\n",
        "#or\n",
        "#from sklearn import metrics\n",
        "#y_predn = gnb.predict(x_test)\n",
        "#print(\"Accuracy:\",metrics.accuracy_score(y_test, y_predn))"
      ],
      "execution_count": null,
      "outputs": [
        {
          "output_type": "stream",
          "name": "stdout",
          "text": [
            "Accuracy of Naive Bayes classifier on test set: 0.72\n"
          ]
        }
      ]
    },
    {
      "cell_type": "markdown",
      "metadata": {
        "id": "w_ypTn-c7lBe"
      },
      "source": [
        "**3. SVM**"
      ]
    },
    {
      "cell_type": "code",
      "metadata": {
        "colab": {
          "base_uri": "https://localhost:8080/"
        },
        "id": "2nd8l50eARYa",
        "outputId": "8181f730-3c13-4f39-ce96-5ac759fdbcdd"
      },
      "source": [
        "#Import svm model\n",
        "from sklearn import svm\n",
        "\n",
        "#Create a svm Classifier\n",
        "svm_clf = svm.SVC(kernel='rbf') # Linear Kernel\n",
        "\n",
        "#Train the model using the training sets\n",
        "svm_clf.fit(x_train, y_train)\n",
        "\n",
        "print('Accuracy of SVM classifier on train set: {:.2f}'.format(svm_clf.score(x_train, y_train)))"
      ],
      "execution_count": null,
      "outputs": [
        {
          "output_type": "stream",
          "name": "stdout",
          "text": [
            "Accuracy of SVM classifier on train set: 0.81\n"
          ]
        }
      ]
    },
    {
      "cell_type": "code",
      "metadata": {
        "colab": {
          "base_uri": "https://localhost:8080/"
        },
        "id": "RDQHFsL8Et84",
        "outputId": "352ba856-0039-4d9c-d5f2-f2df61c8aba0"
      },
      "source": [
        "svm_acc=svm_clf.score(x_test, y_test)\n",
        "print('Accuracy of SVM classifier on test set: {:.2f}'.format(svm_acc))"
      ],
      "execution_count": null,
      "outputs": [
        {
          "output_type": "stream",
          "name": "stdout",
          "text": [
            "Accuracy of SVM classifier on test set: 0.76\n"
          ]
        }
      ]
    },
    {
      "cell_type": "markdown",
      "metadata": {
        "id": "Z6LiE8S-lnyc"
      },
      "source": [
        "**4. Decision Tree**"
      ]
    },
    {
      "cell_type": "code",
      "metadata": {
        "colab": {
          "base_uri": "https://localhost:8080/"
        },
        "id": "ZzBZ0Tcoq-L9",
        "outputId": "3345f926-3b76-4623-f20c-6737a19cb178"
      },
      "source": [
        "from sklearn.tree import DecisionTreeClassifier\n",
        "tree_model = DecisionTreeClassifier(criterion=\"gini\", random_state=42,max_depth=7, min_samples_leaf=2)   \n",
        "tree_model.fit(scaled_inputs,targets)\n",
        "\n",
        "print('Accuracy of Decision Tree classifier on train set: {:.2f}'.format(tree_model.score(x_train, y_train)))"
      ],
      "execution_count": null,
      "outputs": [
        {
          "output_type": "stream",
          "name": "stdout",
          "text": [
            "Accuracy of Decision Tree classifier on train set: 0.86\n"
          ]
        }
      ]
    },
    {
      "cell_type": "code",
      "metadata": {
        "colab": {
          "base_uri": "https://localhost:8080/"
        },
        "id": "kR5te6mo-3CH",
        "outputId": "bc65eeaf-5d18-4309-a6bb-88d872d9df31"
      },
      "source": [
        "pred_dt=tree_model.score(x_test, y_test)\n",
        "print('Accuracy of Decision Tree classifier on test set: {:.2f}'.format(pred_dt))"
      ],
      "execution_count": null,
      "outputs": [
        {
          "output_type": "stream",
          "name": "stdout",
          "text": [
            "Accuracy of Decision Tree classifier on test set: 0.82\n"
          ]
        }
      ]
    },
    {
      "cell_type": "markdown",
      "metadata": {
        "id": "Ubaxt3wwEBNt"
      },
      "source": [
        "**Tree Pruning**"
      ]
    },
    {
      "cell_type": "markdown",
      "metadata": {
        "id": "ktx0-6t60-PP"
      },
      "source": [
        "***Post Pruning***"
      ]
    },
    {
      "cell_type": "code",
      "metadata": {
        "colab": {
          "base_uri": "https://localhost:8080/",
          "height": 1000
        },
        "id": "796viHie04IS",
        "outputId": "b3bbfc3a-3716-4c1a-d2ce-67eb55079e05"
      },
      "source": [
        "from sklearn import tree\n",
        "plt.figure(figsize=(15,10))\n",
        "tree.plot_tree(tree_model,filled=True)"
      ],
      "execution_count": null,
      "outputs": [
        {
          "output_type": "execute_result",
          "data": {
            "text/plain": [
              "[Text(512.8048469387755, 509.625, 'X[8] <= 0.577\\ngini = 0.496\\nsamples = 700\\nvalue = [381, 319]'),\n",
              " Text(320.99234693877554, 441.675, 'X[10] <= 1.433\\ngini = 0.462\\nsamples = 525\\nvalue = [335, 190]'),\n",
              " Text(203.5561224489796, 373.725, 'X[0] <= 0.478\\ngini = 0.419\\nsamples = 462\\nvalue = [324, 138]'),\n",
              " Text(136.65306122448982, 305.775, 'X[4] <= 2.296\\ngini = 0.326\\nsamples = 331\\nvalue = [263, 68]'),\n",
              " Text(91.10204081632654, 237.825, 'X[1] <= -1.176\\ngini = 0.308\\nsamples = 316\\nvalue = [256, 60]'),\n",
              " Text(45.55102040816327, 169.875, 'X[3] <= -0.525\\ngini = 0.448\\nsamples = 59\\nvalue = [39, 20]'),\n",
              " Text(22.775510204081634, 101.92500000000001, 'X[12] <= 0.611\\ngini = 0.472\\nsamples = 21\\nvalue = [8, 13]'),\n",
              " Text(11.387755102040817, 33.97500000000002, 'gini = 0.337\\nsamples = 14\\nvalue = [3, 11]'),\n",
              " Text(34.163265306122454, 33.97500000000002, 'gini = 0.408\\nsamples = 7\\nvalue = [5, 2]'),\n",
              " Text(68.32653061224491, 101.92500000000001, 'X[0] <= -1.296\\ngini = 0.301\\nsamples = 38\\nvalue = [31, 7]'),\n",
              " Text(56.93877551020408, 33.97500000000002, 'gini = 0.165\\nsamples = 22\\nvalue = [20, 2]'),\n",
              " Text(79.71428571428572, 33.97500000000002, 'gini = 0.43\\nsamples = 16\\nvalue = [11, 5]'),\n",
              " Text(136.65306122448982, 169.875, 'X[6] <= 0.431\\ngini = 0.263\\nsamples = 257\\nvalue = [217, 40]'),\n",
              " Text(113.87755102040816, 101.92500000000001, 'X[12] <= -0.817\\ngini = 0.229\\nsamples = 220\\nvalue = [191, 29]'),\n",
              " Text(102.48979591836735, 33.97500000000002, 'gini = 0.127\\nsamples = 88\\nvalue = [82, 6]'),\n",
              " Text(125.26530612244899, 33.97500000000002, 'gini = 0.288\\nsamples = 132\\nvalue = [109, 23]'),\n",
              " Text(159.42857142857144, 101.92500000000001, 'X[2] <= -0.065\\ngini = 0.418\\nsamples = 37\\nvalue = [26, 11]'),\n",
              " Text(148.04081632653063, 33.97500000000002, 'gini = 0.0\\nsamples = 4\\nvalue = [0, 4]'),\n",
              " Text(170.81632653061226, 33.97500000000002, 'gini = 0.334\\nsamples = 33\\nvalue = [26, 7]'),\n",
              " Text(182.20408163265307, 237.825, 'X[11] <= -0.198\\ngini = 0.498\\nsamples = 15\\nvalue = [7, 8]'),\n",
              " Text(170.81632653061226, 169.875, 'gini = 0.0\\nsamples = 5\\nvalue = [5, 0]'),\n",
              " Text(193.59183673469389, 169.875, 'X[12] <= 0.897\\ngini = 0.32\\nsamples = 10\\nvalue = [2, 8]'),\n",
              " Text(182.20408163265307, 101.92500000000001, 'gini = 0.0\\nsamples = 6\\nvalue = [0, 6]'),\n",
              " Text(204.9795918367347, 101.92500000000001, 'X[3] <= 0.025\\ngini = 0.5\\nsamples = 4\\nvalue = [2, 2]'),\n",
              " Text(193.59183673469389, 33.97500000000002, 'gini = 0.0\\nsamples = 2\\nvalue = [2, 0]'),\n",
              " Text(216.3673469387755, 33.97500000000002, 'gini = 0.0\\nsamples = 2\\nvalue = [0, 2]'),\n",
              " Text(270.4591836734694, 305.775, 'X[11] <= -0.198\\ngini = 0.498\\nsamples = 131\\nvalue = [61, 70]'),\n",
              " Text(239.14285714285717, 237.825, 'X[9] <= 5.331\\ngini = 0.18\\nsamples = 20\\nvalue = [18, 2]'),\n",
              " Text(227.75510204081633, 169.875, 'gini = 0.0\\nsamples = 18\\nvalue = [18, 0]'),\n",
              " Text(250.53061224489798, 169.875, 'gini = 0.0\\nsamples = 2\\nvalue = [0, 2]'),\n",
              " Text(301.7755102040816, 237.825, 'X[2] <= 0.17\\ngini = 0.475\\nsamples = 111\\nvalue = [43, 68]'),\n",
              " Text(273.30612244897964, 169.875, 'X[12] <= -1.102\\ngini = 0.399\\nsamples = 80\\nvalue = [22, 58]'),\n",
              " Text(250.53061224489798, 101.92500000000001, 'X[7] <= -0.161\\ngini = 0.408\\nsamples = 7\\nvalue = [5, 2]'),\n",
              " Text(239.14285714285717, 33.97500000000002, 'gini = 0.0\\nsamples = 3\\nvalue = [3, 0]'),\n",
              " Text(261.9183673469388, 33.97500000000002, 'gini = 0.5\\nsamples = 4\\nvalue = [2, 2]'),\n",
              " Text(296.08163265306126, 101.92500000000001, 'X[13] <= 2.02\\ngini = 0.357\\nsamples = 73\\nvalue = [17, 56]'),\n",
              " Text(284.6938775510204, 33.97500000000002, 'gini = 0.333\\nsamples = 71\\nvalue = [15, 56]'),\n",
              " Text(307.46938775510205, 33.97500000000002, 'gini = 0.0\\nsamples = 2\\nvalue = [2, 0]'),\n",
              " Text(330.2448979591837, 169.875, 'X[13] <= -0.346\\ngini = 0.437\\nsamples = 31\\nvalue = [21, 10]'),\n",
              " Text(318.8571428571429, 101.92500000000001, 'gini = 0.0\\nsamples = 4\\nvalue = [4, 0]'),\n",
              " Text(341.6326530612245, 101.92500000000001, 'X[3] <= 1.577\\ngini = 0.466\\nsamples = 27\\nvalue = [17, 10]'),\n",
              " Text(330.2448979591837, 33.97500000000002, 'gini = 0.435\\nsamples = 25\\nvalue = [17, 8]'),\n",
              " Text(353.0204081632653, 33.97500000000002, 'gini = 0.0\\nsamples = 2\\nvalue = [0, 2]'),\n",
              " Text(438.42857142857144, 373.725, 'X[0] <= 0.274\\ngini = 0.288\\nsamples = 63\\nvalue = [11, 52]'),\n",
              " Text(427.04081632653066, 305.775, 'X[13] <= 1.006\\ngini = 0.405\\nsamples = 39\\nvalue = [11, 28]'),\n",
              " Text(415.6530612244898, 237.825, 'X[2] <= -0.693\\ngini = 0.368\\nsamples = 37\\nvalue = [9, 28]'),\n",
              " Text(375.795918367347, 169.875, 'X[0] <= -0.82\\ngini = 0.496\\nsamples = 11\\nvalue = [5, 6]'),\n",
              " Text(364.40816326530614, 101.92500000000001, 'gini = 0.0\\nsamples = 2\\nvalue = [2, 0]'),\n",
              " Text(387.18367346938777, 101.92500000000001, 'X[3] <= -0.051\\ngini = 0.444\\nsamples = 9\\nvalue = [3, 6]'),\n",
              " Text(375.795918367347, 33.97500000000002, 'gini = 0.48\\nsamples = 5\\nvalue = [3, 2]'),\n",
              " Text(398.5714285714286, 33.97500000000002, 'gini = 0.0\\nsamples = 4\\nvalue = [0, 4]'),\n",
              " Text(455.51020408163265, 169.875, 'X[5] <= 1.823\\ngini = 0.26\\nsamples = 26\\nvalue = [4, 22]'),\n",
              " Text(432.734693877551, 101.92500000000001, 'X[6] <= -0.469\\ngini = 0.165\\nsamples = 22\\nvalue = [2, 20]'),\n",
              " Text(421.34693877551024, 33.97500000000002, 'gini = 0.346\\nsamples = 9\\nvalue = [2, 7]'),\n",
              " Text(444.12244897959187, 33.97500000000002, 'gini = 0.0\\nsamples = 13\\nvalue = [0, 13]'),\n",
              " Text(478.28571428571433, 101.92500000000001, 'X[12] <= 0.04\\ngini = 0.5\\nsamples = 4\\nvalue = [2, 2]'),\n",
              " Text(466.8979591836735, 33.97500000000002, 'gini = 0.5\\nsamples = 2\\nvalue = [1, 1]'),\n",
              " Text(489.6734693877551, 33.97500000000002, 'gini = 0.5\\nsamples = 2\\nvalue = [1, 1]'),\n",
              " Text(438.42857142857144, 237.825, 'gini = 0.0\\nsamples = 2\\nvalue = [2, 0]'),\n",
              " Text(449.8163265306123, 305.775, 'gini = 0.0\\nsamples = 24\\nvalue = [0, 24]'),\n",
              " Text(704.6173469387755, 441.675, 'X[0] <= 0.274\\ngini = 0.388\\nsamples = 175\\nvalue = [46, 129]'),\n",
              " Text(640.5612244897959, 373.725, 'X[4] <= -0.526\\ngini = 0.458\\nsamples = 107\\nvalue = [38, 69]'),\n",
              " Text(580.7755102040817, 305.775, 'X[3] <= 0.954\\ngini = 0.497\\nsamples = 41\\nvalue = [19, 22]'),\n",
              " Text(558.0, 237.825, 'X[3] <= 0.273\\ngini = 0.491\\nsamples = 30\\nvalue = [17, 13]'),\n",
              " Text(546.6122448979593, 169.875, 'X[3] <= -0.179\\ngini = 0.499\\nsamples = 25\\nvalue = [12, 13]'),\n",
              " Text(523.8367346938776, 101.92500000000001, 'X[4] <= -1.232\\ngini = 0.484\\nsamples = 17\\nvalue = [10, 7]'),\n",
              " Text(512.4489795918367, 33.97500000000002, 'gini = 0.0\\nsamples = 4\\nvalue = [4, 0]'),\n",
              " Text(535.2244897959184, 33.97500000000002, 'gini = 0.497\\nsamples = 13\\nvalue = [6, 7]'),\n",
              " Text(569.3877551020408, 101.92500000000001, 'X[3] <= -0.118\\ngini = 0.375\\nsamples = 8\\nvalue = [2, 6]'),\n",
              " Text(558.0, 33.97500000000002, 'gini = 0.0\\nsamples = 5\\nvalue = [0, 5]'),\n",
              " Text(580.7755102040817, 33.97500000000002, 'gini = 0.444\\nsamples = 3\\nvalue = [2, 1]'),\n",
              " Text(569.3877551020408, 169.875, 'gini = 0.0\\nsamples = 5\\nvalue = [5, 0]'),\n",
              " Text(603.5510204081633, 237.825, 'X[5] <= 1.823\\ngini = 0.298\\nsamples = 11\\nvalue = [2, 9]'),\n",
              " Text(592.1632653061225, 169.875, 'gini = 0.0\\nsamples = 6\\nvalue = [0, 6]'),\n",
              " Text(614.9387755102041, 169.875, 'X[13] <= -0.346\\ngini = 0.48\\nsamples = 5\\nvalue = [2, 3]'),\n",
              " Text(603.5510204081633, 101.92500000000001, 'gini = 0.444\\nsamples = 3\\nvalue = [2, 1]'),\n",
              " Text(626.3265306122449, 101.92500000000001, 'gini = 0.0\\nsamples = 2\\nvalue = [0, 2]'),\n",
              " Text(700.3469387755102, 305.775, 'X[6] <= 0.431\\ngini = 0.41\\nsamples = 66\\nvalue = [19, 47]'),\n",
              " Text(688.9591836734694, 237.825, 'X[13] <= -1.022\\ngini = 0.452\\nsamples = 55\\nvalue = [19, 36]'),\n",
              " Text(660.4897959183673, 169.875, 'X[3] <= -1.047\\ngini = 0.18\\nsamples = 10\\nvalue = [1, 9]'),\n",
              " Text(649.1020408163266, 101.92500000000001, 'gini = 0.5\\nsamples = 2\\nvalue = [1, 1]'),\n",
              " Text(671.8775510204082, 101.92500000000001, 'gini = 0.0\\nsamples = 8\\nvalue = [0, 8]'),\n",
              " Text(717.4285714285714, 169.875, 'X[1] <= -1.311\\ngini = 0.48\\nsamples = 45\\nvalue = [18, 27]'),\n",
              " Text(694.6530612244899, 101.92500000000001, 'X[13] <= -0.346\\ngini = 0.444\\nsamples = 9\\nvalue = [6, 3]'),\n",
              " Text(683.265306122449, 33.97500000000002, 'gini = 0.0\\nsamples = 2\\nvalue = [0, 2]'),\n",
              " Text(706.0408163265306, 33.97500000000002, 'gini = 0.245\\nsamples = 7\\nvalue = [6, 1]'),\n",
              " Text(740.2040816326531, 101.92500000000001, 'X[12] <= 1.182\\ngini = 0.444\\nsamples = 36\\nvalue = [12, 24]'),\n",
              " Text(728.8163265306123, 33.97500000000002, 'gini = 0.48\\nsamples = 30\\nvalue = [12, 18]'),\n",
              " Text(751.591836734694, 33.97500000000002, 'gini = 0.0\\nsamples = 6\\nvalue = [0, 6]'),\n",
              " Text(711.7346938775511, 237.825, 'gini = 0.0\\nsamples = 11\\nvalue = [0, 11]'),\n",
              " Text(768.6734693877552, 373.725, 'X[2] <= 0.876\\ngini = 0.208\\nsamples = 68\\nvalue = [8, 60]'),\n",
              " Text(745.8979591836735, 305.775, 'X[5] <= 0.325\\ngini = 0.036\\nsamples = 55\\nvalue = [1, 54]'),\n",
              " Text(734.5102040816327, 237.825, 'gini = 0.0\\nsamples = 46\\nvalue = [0, 46]'),\n",
              " Text(757.2857142857143, 237.825, 'X[12] <= 0.04\\ngini = 0.198\\nsamples = 9\\nvalue = [1, 8]'),\n",
              " Text(745.8979591836735, 169.875, 'gini = 0.444\\nsamples = 3\\nvalue = [1, 2]'),\n",
              " Text(768.6734693877552, 169.875, 'gini = 0.0\\nsamples = 6\\nvalue = [0, 6]'),\n",
              " Text(791.4489795918367, 305.775, 'X[12] <= -1.102\\ngini = 0.497\\nsamples = 13\\nvalue = [7, 6]'),\n",
              " Text(780.061224489796, 237.825, 'gini = 0.0\\nsamples = 4\\nvalue = [0, 4]'),\n",
              " Text(802.8367346938776, 237.825, 'X[12] <= 0.754\\ngini = 0.346\\nsamples = 9\\nvalue = [7, 2]'),\n",
              " Text(791.4489795918367, 169.875, 'gini = 0.0\\nsamples = 5\\nvalue = [5, 0]'),\n",
              " Text(814.2244897959184, 169.875, 'X[0] <= 0.696\\ngini = 0.5\\nsamples = 4\\nvalue = [2, 2]'),\n",
              " Text(802.8367346938776, 101.92500000000001, 'gini = 0.0\\nsamples = 2\\nvalue = [0, 2]'),\n",
              " Text(825.6122448979593, 101.92500000000001, 'gini = 0.0\\nsamples = 2\\nvalue = [2, 0]')]"
            ]
          },
          "metadata": {},
          "execution_count": 597
        },
        {
          "output_type": "display_data",
          "data": {
            "image/png": "[encoded data removed]",
            "text/plain": [
              "<Figure size 1080x720 with 1 Axes>"
            ]
          },
          "metadata": {
            "needs_background": "light"
          }
        }
      ]
    },
    {
      "cell_type": "code",
      "metadata": {
        "colab": {
          "base_uri": "https://localhost:8080/"
        },
        "id": "DT6MQqO904Ng",
        "outputId": "cbb14b29-094f-4ec8-d01e-e76556b51854"
      },
      "source": [
        "path = tree_model.cost_complexity_pruning_path(x_train, y_train)\n",
        "ccp_alphas, impurities = path.ccp_alphas, path.impurities\n",
        "ccp_alphas"
      ],
      "execution_count": null,
      "outputs": [
        {
          "output_type": "execute_result",
          "data": {
            "text/plain": [
              "array([0.        , 0.        , 0.00034787, 0.00055724, 0.00089286,\n",
              "       0.00101328, 0.00118495, 0.00127551, 0.00133712, 0.00133929,\n",
              "       0.00135281, 0.00158163, 0.00214286, 0.0021875 , 0.00244912,\n",
              "       0.00262605, 0.00267857, 0.00267857, 0.00272109, 0.00283018,\n",
              "       0.0030525 , 0.00306153, 0.00315807, 0.0031746 , 0.00321429,\n",
              "       0.00322066, 0.00322176, 0.00335165, 0.00390306, 0.00393634,\n",
              "       0.00414886, 0.00424459, 0.00424683, 0.00438828, 0.00443878,\n",
              "       0.00463822, 0.00492711, 0.00518094, 0.00530609, 0.00597612,\n",
              "       0.00736373, 0.00860021, 0.01047664, 0.01267465, 0.02497439,\n",
              "       0.03607828, 0.05693145])"
            ]
          },
          "metadata": {},
          "execution_count": 598
        }
      ]
    },
    {
      "cell_type": "code",
      "metadata": {
        "colab": {
          "base_uri": "https://localhost:8080/"
        },
        "id": "JscpfFTX04X4",
        "outputId": "765b0a77-c233-4ea0-df85-cd1bb3ec490d"
      },
      "source": [
        "clfs = []\n",
        "for ccp_alpha in ccp_alphas:\n",
        "    tree_model = DecisionTreeClassifier(random_state=0, ccp_alpha=ccp_alpha)\n",
        "    tree_model.fit(x_train, y_train)\n",
        "    clfs.append(tree_model)\n",
        "print(\"Number of nodes in the last tree is: {} with ccp_alpha: {}\".format(\n",
        "      clfs[-1].tree_.node_count, ccp_alphas[-1]))"
      ],
      "execution_count": null,
      "outputs": [
        {
          "output_type": "stream",
          "name": "stdout",
          "text": [
            "Number of nodes in the last tree is: 3 with ccp_alpha: 0.0569314495285545\n"
          ]
        }
      ]
    },
    {
      "cell_type": "markdown",
      "metadata": {
        "id": "n5XWXE7AAj32"
      },
      "source": [
        "***Accuracy vs alpha for training and testing sets***"
      ]
    },
    {
      "cell_type": "code",
      "metadata": {
        "colab": {
          "base_uri": "https://localhost:8080/",
          "height": 295
        },
        "id": "fJZ2-4KCAdDK",
        "outputId": "6745f75a-b1f9-466c-9e0c-e3fe5d8eca36"
      },
      "source": [
        "train_scores = [tree_model.score(x_train, y_train) for tree_model in clfs]\n",
        "test_scores = [tree_model.score(x_test, y_test) for tree_model in clfs]\n",
        "\n",
        "fig, ax = plt.subplots()\n",
        "ax.set_xlabel(\"alpha\")\n",
        "ax.set_ylabel(\"accuracy\")\n",
        "ax.set_title(\"Accuracy vs alpha for training and testing sets\")\n",
        "ax.plot(ccp_alphas, train_scores, marker='o', label=\"train\",\n",
        "        drawstyle=\"steps-post\")\n",
        "ax.plot(ccp_alphas, test_scores, marker='o', label=\"test\",\n",
        "        drawstyle=\"steps-post\")\n",
        "ax.legend()\n",
        "plt.show()"
      ],
      "execution_count": null,
      "outputs": [
        {
          "output_type": "display_data",
          "data": {
            "image/png": "[encoded data removed]",
            "text/plain": [
              "<Figure size 432x288 with 1 Axes>"
            ]
          },
          "metadata": {
            "needs_background": "light"
          }
        }
      ]
    },
    {
      "cell_type": "code",
      "metadata": {
        "colab": {
          "base_uri": "https://localhost:8080/"
        },
        "id": "Lk0He0MMB1eO",
        "outputId": "8e640a7a-ae2c-47bd-9836-8987bad656ed"
      },
      "source": [
        "tree_model = DecisionTreeClassifier(random_state=0, ccp_alpha=0.012)\n",
        "tree_model.fit(x_train,y_train)"
      ],
      "execution_count": null,
      "outputs": [
        {
          "output_type": "execute_result",
          "data": {
            "text/plain": [
              "DecisionTreeClassifier(ccp_alpha=0.012, class_weight=None, criterion='gini',\n",
              "                       max_depth=None, max_features=None, max_leaf_nodes=None,\n",
              "                       min_impurity_decrease=0.0, min_impurity_split=None,\n",
              "                       min_samples_leaf=1, min_samples_split=2,\n",
              "                       min_weight_fraction_leaf=0.0, presort='deprecated',\n",
              "                       random_state=0, splitter='best')"
            ]
          },
          "metadata": {},
          "execution_count": 601
        }
      ]
    },
    {
      "cell_type": "code",
      "metadata": {
        "colab": {
          "base_uri": "https://localhost:8080/"
        },
        "id": "hTE-edzCB-2p",
        "outputId": "787c6e92-9916-4cd1-ffbf-b3945e8a7dd9"
      },
      "source": [
        "pred=tree_model.predict(x_test)\n",
        "from sklearn.metrics import accuracy_score\n",
        "post_pru_acc=accuracy_score(y_test, pred)\n",
        "post_pru_acc"
      ],
      "execution_count": null,
      "outputs": [
        {
          "output_type": "execute_result",
          "data": {
            "text/plain": [
              "0.7642857142857142"
            ]
          },
          "metadata": {},
          "execution_count": 602
        }
      ]
    },
    {
      "cell_type": "code",
      "metadata": {
        "colab": {
          "base_uri": "https://localhost:8080/",
          "height": 766
        },
        "id": "pCiYXhzIAdGY",
        "outputId": "d2c6f249-ff3e-470b-db09-e319fd06827c"
      },
      "source": [
        "from sklearn import tree\n",
        "plt.figure(figsize=(15,10))\n",
        "tree.plot_tree(tree_model,filled=True)"
      ],
      "execution_count": null,
      "outputs": [
        {
          "output_type": "execute_result",
          "data": {
            "text/plain": [
              "[Text(418.5, 475.65000000000003, 'X[11] <= -0.198\\ngini = 0.495\\nsamples = 560\\nvalue = [307, 253]'),\n",
              " Text(251.10000000000002, 339.75, 'X[8] <= 0.577\\ngini = 0.449\\nsamples = 223\\nvalue = [76, 147]'),\n",
              " Text(167.4, 203.85000000000002, 'X[10] <= 1.433\\ngini = 0.499\\nsamples = 84\\nvalue = [40, 44]'),\n",
              " Text(83.7, 67.94999999999999, 'gini = 0.157\\nsamples = 35\\nvalue = [32, 3]'),\n",
              " Text(251.10000000000002, 67.94999999999999, 'gini = 0.273\\nsamples = 49\\nvalue = [8, 41]'),\n",
              " Text(334.8, 203.85000000000002, 'gini = 0.384\\nsamples = 139\\nvalue = [36, 103]'),\n",
              " Text(585.9, 339.75, 'X[0] <= 0.138\\ngini = 0.431\\nsamples = 337\\nvalue = [231, 106]'),\n",
              " Text(502.20000000000005, 203.85000000000002, 'gini = 0.29\\nsamples = 205\\nvalue = [169, 36]'),\n",
              " Text(669.6, 203.85000000000002, 'X[2] <= 0.327\\ngini = 0.498\\nsamples = 132\\nvalue = [62, 70]'),\n",
              " Text(585.9, 67.94999999999999, 'gini = 0.441\\nsamples = 76\\nvalue = [25, 51]'),\n",
              " Text(753.3000000000001, 67.94999999999999, 'gini = 0.448\\nsamples = 56\\nvalue = [37, 19]')]"
            ]
          },
          "metadata": {},
          "execution_count": 603
        },
        {
          "output_type": "display_data",
          "data": {
            "image/png": "[encoded data removed]",
            "text/plain": [
              "<Figure size 1080x720 with 1 Axes>"
            ]
          },
          "metadata": {
            "needs_background": "light"
          }
        }
      ]
    },
    {
      "cell_type": "markdown",
      "metadata": {
        "id": "MEi9yqIC79WN"
      },
      "source": [
        "***Pre Pruning***"
      ]
    },
    {
      "cell_type": "code",
      "metadata": {
        "id": "Fa-EvN3qI7uX"
      },
      "source": [
        "X_train, X_test, Y_train, Y_test = train_test_split(scaled_inputs, targets, random_state=0)"
      ],
      "execution_count": null,
      "outputs": []
    },
    {
      "cell_type": "code",
      "metadata": {
        "colab": {
          "base_uri": "https://localhost:8080/"
        },
        "id": "aGFGgqj3I70y",
        "outputId": "da52852d-0a1b-44fb-dd1c-3904a84d0e7b"
      },
      "source": [
        "clf_pre= DecisionTreeClassifier()\n",
        "path = clf_pre.cost_complexity_pruning_path(X_train, Y_train)\n",
        "path"
      ],
      "execution_count": null,
      "outputs": [
        {
          "output_type": "execute_result",
          "data": {
            "text/plain": [
              "{'ccp_alphas': array([0.        , 0.00031746, 0.00057143, 0.00059524, 0.00063492,\n",
              "        0.00077922, 0.00095238, 0.00095238, 0.00101587, 0.00103175,\n",
              "        0.00114286, 0.00114286, 0.00119048, 0.00119728, 0.001221  ,\n",
              "        0.00122751, 0.00123887, 0.00126984, 0.00126984, 0.00141093,\n",
              "        0.00142857, 0.00142857, 0.00142857, 0.00145125, 0.00148148,\n",
              "        0.00151172, 0.00156288, 0.0015873 , 0.0015873 , 0.00163265,\n",
              "        0.001678  , 0.00169312, 0.0017402 , 0.0018479 , 0.00190476,\n",
              "        0.00217687, 0.00236735, 0.00238095, 0.00244898, 0.00253968,\n",
              "        0.00253968, 0.00253968, 0.00258966, 0.00259788, 0.00290249,\n",
              "        0.0031746 , 0.003256  , 0.00328042, 0.00333333, 0.00335331,\n",
              "        0.00337761, 0.00342857, 0.00353963, 0.00355556, 0.00365486,\n",
              "        0.00391908, 0.00408163, 0.00449328, 0.00457143, 0.00472089,\n",
              "        0.0047619 , 0.00527196, 0.00550215, 0.00556013, 0.0058194 ,\n",
              "        0.00629688, 0.0066862 , 0.00974594, 0.00977818, 0.0207212 ,\n",
              "        0.0408131 , 0.05748034]),\n",
              " 'impurities': array([0.01968254, 0.02      , 0.02114286, 0.02292857, 0.02419841,\n",
              "        0.02575685, 0.02670924, 0.02956638, 0.032614  , 0.03674098,\n",
              "        0.04131241, 0.04245527, 0.04721717, 0.04961173, 0.05083273,\n",
              "        0.05451527, 0.05823188, 0.05950172, 0.06077156, 0.06923717,\n",
              "        0.07209431, 0.07495146, 0.0778086 , 0.07925985, 0.08370429,\n",
              "        0.08672772, 0.0882906 , 0.09146521, 0.09463981, 0.09790512,\n",
              "        0.10126112, 0.10464737, 0.10812776, 0.11551937, 0.11742414,\n",
              "        0.12395475, 0.12868944, 0.13345135, 0.13834931, 0.14088899,\n",
              "        0.14342867, 0.14596835, 0.15373733, 0.16412886, 0.16703136,\n",
              "        0.17020596, 0.17346196, 0.18658366, 0.18991699, 0.20668353,\n",
              "        0.21343874, 0.21686731, 0.22040694, 0.22396249, 0.23127222,\n",
              "        0.24694852, 0.25103015, 0.25552344, 0.26009487, 0.27425755,\n",
              "        0.27901946, 0.29483534, 0.30583965, 0.31139978, 0.32303858,\n",
              "        0.32933546, 0.33602166, 0.3457676 , 0.35554579, 0.3969882 ,\n",
              "        0.43780129, 0.49528163])}"
            ]
          },
          "metadata": {},
          "execution_count": 605
        }
      ]
    },
    {
      "cell_type": "code",
      "metadata": {
        "id": "agd1py_qAdJp"
      },
      "source": [
        "#from sklearn.model_selection import GridSearchCV\n",
        "\n",
        "#grid_param={\"criterion\":[\"gini\",\"entropy\"],\n",
        " #            \"splitter\":[\"best\",\"random\"],\n",
        "  #           \"max_depth\":range(2,50,1),\n",
        "   #          \"min_samples_leaf\":range(1,15,1),\n",
        "    #         \"min_samples_split\":range(2,20,1) \n",
        "     #       }\n",
        "#grid_search_prepru=GridSearchCV(estimator=tree_model,param_grid=grid_param,cv=5,n_jobs=-1)\n",
        "#grid_search_prepru.fit(X_train,y_train)"
      ],
      "execution_count": null,
      "outputs": []
    },
    {
      "cell_type": "code",
      "metadata": {
        "id": "sZxk3jVk_gjb"
      },
      "source": [
        "#print(grid_search_prepru.best_params_)"
      ],
      "execution_count": null,
      "outputs": []
    },
    {
      "cell_type": "code",
      "metadata": {
        "colab": {
          "base_uri": "https://localhost:8080/"
        },
        "id": "uM_hUOe-DBKR",
        "outputId": "a1988a00-8a3d-4173-bb86-c9c8b5098180"
      },
      "source": [
        "prepru_predicted=tree_model.predict(X_test)\n",
        "pre_pru_acc=accuracy_score(Y_test,prepru_predicted)\n",
        "pre_pru_acc"
      ],
      "execution_count": null,
      "outputs": [
        {
          "output_type": "execute_result",
          "data": {
            "text/plain": [
              "0.8"
            ]
          },
          "metadata": {},
          "execution_count": 608
        }
      ]
    },
    {
      "cell_type": "markdown",
      "metadata": {
        "id": "G4nK16_f3lS8"
      },
      "source": [
        "**5. Random Forest**"
      ]
    },
    {
      "cell_type": "code",
      "metadata": {
        "colab": {
          "base_uri": "https://localhost:8080/"
        },
        "id": "dnn4APGjmlfM",
        "outputId": "98940615-6f2e-4560-f99f-b58dfc17a05b"
      },
      "source": [
        "#Import Random Forest Model\n",
        "from sklearn.ensemble import RandomForestClassifier\n",
        "\n",
        "#Create a Random Forest Classifier\n",
        "rf_model=RandomForestClassifier(n_estimators=100, random_state=42)\n",
        "\n",
        "#Train the model using the training sets y_pred=clf.predict(X_test)\n",
        "rf_model.fit(x_train,y_train)\n",
        "\n",
        "print('Accuracy of Random Forest classifier on train set: {:.2f}'.format(rf_model.score(x_train, y_train)))"
      ],
      "execution_count": null,
      "outputs": [
        {
          "output_type": "stream",
          "name": "stdout",
          "text": [
            "Accuracy of Random Forest classifier on train set: 0.98\n"
          ]
        }
      ]
    },
    {
      "cell_type": "code",
      "metadata": {
        "colab": {
          "base_uri": "https://localhost:8080/"
        },
        "id": "uG-p_1vJ81st",
        "outputId": "33fac451-ca12-4499-9bef-a0584dc085e5"
      },
      "source": [
        "#y_predrf = rf_model.predict(x_testrf)\n",
        "rand_acc=rf_model.score(x_test, y_test)\n",
        "print('Accuracy of Random Forest classifier on test set: {:.2f}'.format(rand_acc))"
      ],
      "execution_count": null,
      "outputs": [
        {
          "output_type": "stream",
          "name": "stdout",
          "text": [
            "Accuracy of Random Forest classifier on test set: 0.75\n"
          ]
        }
      ]
    },
    {
      "cell_type": "markdown",
      "metadata": {
        "id": "0I-MhPt11PJ9"
      },
      "source": [
        "**6. KNN**"
      ]
    },
    {
      "cell_type": "code",
      "metadata": {
        "id": "OmSbAEp3vy-Q"
      },
      "source": [
        "#import required packages\n",
        "from sklearn import neighbors\n",
        "from sklearn.metrics import mean_squared_error \n",
        "from math import sqrt\n",
        "import matplotlib.pyplot as plt\n",
        "%matplotlib inline"
      ],
      "execution_count": null,
      "outputs": []
    },
    {
      "cell_type": "code",
      "metadata": {
        "colab": {
          "base_uri": "https://localhost:8080/"
        },
        "id": "WhzN33Rcvz3f",
        "outputId": "7784db33-117b-4f9d-d820-883a0dfb8051"
      },
      "source": [
        "rmse_val = [] #to store rmse values for different k\n",
        "for K in range(20):\n",
        "    K = K+1\n",
        "    model = neighbors.KNeighborsRegressor(n_neighbors = K)\n",
        "\n",
        "    model.fit(x_train, y_train)  #fit the model\n",
        "    pred=model.predict(x_test) #make prediction on test set\n",
        "    error = sqrt(mean_squared_error(y_test,pred)) #calculate rmse\n",
        "    rmse_val.append(error) #store rmse values\n",
        "    print('RMSE value for k= ' , K , 'is:', error)"
      ],
      "execution_count": null,
      "outputs": [
        {
          "output_type": "stream",
          "name": "stdout",
          "text": [
            "RMSE value for k=  1 is: 0.47809144373375745\n",
            "RMSE value for k=  2 is: 0.46866070578069285\n",
            "RMSE value for k=  3 is: 0.47308511264837305\n",
            "RMSE value for k=  4 is: 0.45806269065645216\n",
            "RMSE value for k=  5 is: 0.44239607334862924\n",
            "RMSE value for k=  6 is: 0.4357533159724116\n",
            "RMSE value for k=  7 is: 0.42908132932115756\n",
            "RMSE value for k=  8 is: 0.4282178601066118\n",
            "RMSE value for k=  9 is: 0.42621338355865246\n",
            "RMSE value for k=  10 is: 0.4351518618334786\n",
            "RMSE value for k=  11 is: 0.435916979195449\n",
            "RMSE value for k=  12 is: 0.4374574809270584\n",
            "RMSE value for k=  13 is: 0.44298801000434285\n",
            "RMSE value for k=  14 is: 0.44643877539358867\n",
            "RMSE value for k=  15 is: 0.44763931058493106\n",
            "RMSE value for k=  16 is: 0.4473071711443299\n",
            "RMSE value for k=  17 is: 0.44823485299609955\n",
            "RMSE value for k=  18 is: 0.4466710100081019\n",
            "RMSE value for k=  19 is: 0.44432845956145595\n",
            "RMSE value for k=  20 is: 0.4436858605558023\n"
          ]
        }
      ]
    },
    {
      "cell_type": "code",
      "metadata": {
        "colab": {
          "base_uri": "https://localhost:8080/",
          "height": 285
        },
        "id": "vo-Srx_Dv0Ne",
        "outputId": "998f5af4-c193-416f-835c-19810f650cd0"
      },
      "source": [
        "#plotting the rmse values against k values\n",
        "curve = pd.DataFrame(rmse_val) #elbow curve \n",
        "curve.plot()"
      ],
      "execution_count": null,
      "outputs": [
        {
          "output_type": "execute_result",
          "data": {
            "text/plain": [
              "<matplotlib.axes._subplots.AxesSubplot at 0x7f0f3ce012d0>"
            ]
          },
          "metadata": {},
          "execution_count": 613
        },
        {
          "output_type": "display_data",
          "data": {
            "image/png": "[encoded data removed]",
            "text/plain": [
              "<Figure size 432x288 with 1 Axes>"
            ]
          },
          "metadata": {
            "needs_background": "light"
          }
        }
      ]
    },
    {
      "cell_type": "markdown",
      "metadata": {
        "id": "8aoUIOZYzI8i"
      },
      "source": [
        "Number of clusters we require is '6'.\n"
      ]
    },
    {
      "cell_type": "code",
      "metadata": {
        "colab": {
          "base_uri": "https://localhost:8080/"
        },
        "id": "U8ox-6uiFRmp",
        "outputId": "423ada01-6732-4486-ce03-8c0b9d7de87e"
      },
      "source": [
        "from sklearn.neighbors import KNeighborsClassifier\n",
        "\n",
        "knn = KNeighborsClassifier(n_neighbors=6)\n",
        " \n",
        "knn.fit(x_train, y_train)\n",
        " \n",
        "# Calculate the accuracy of the model\n",
        "print('Accuracy of KNN classifier on train set: {:.2f}'.format(knn.score(x_train, y_train)))"
      ],
      "execution_count": null,
      "outputs": [
        {
          "output_type": "stream",
          "name": "stdout",
          "text": [
            "Accuracy of KNN classifier on train set: 0.80\n"
          ]
        }
      ]
    },
    {
      "cell_type": "code",
      "metadata": {
        "colab": {
          "base_uri": "https://localhost:8080/"
        },
        "id": "stis3jf9RJk7",
        "outputId": "04f432aa-21fd-4b01-d8c0-0649f464b837"
      },
      "source": [
        "knn_acc=knn.score(x_test, y_test)\n",
        "print('Accuracy of KNN classifier on test set: {:.2f}'.format(knn_acc))"
      ],
      "execution_count": null,
      "outputs": [
        {
          "output_type": "stream",
          "name": "stdout",
          "text": [
            "Accuracy of KNN classifier on test set: 0.73\n"
          ]
        }
      ]
    },
    {
      "cell_type": "markdown",
      "metadata": {
        "id": "1c1zWUVTRr9K"
      },
      "source": [
        "**Boosting**"
      ]
    },
    {
      "cell_type": "markdown",
      "metadata": {
        "id": "9YkiSpVNvHDe"
      },
      "source": [
        "***Ada Boost***"
      ]
    },
    {
      "cell_type": "code",
      "metadata": {
        "colab": {
          "base_uri": "https://localhost:8080/"
        },
        "id": "_QwguQujRyV9",
        "outputId": "ef8d58e8-ba7c-4895-fd21-e0e963fff9d6"
      },
      "source": [
        "# AdaBoost Algorithm\n",
        "from sklearn.ensemble import AdaBoostClassifier\n",
        "ada_model = AdaBoostClassifier()\n",
        "# n_estimators = 50 (default value) \n",
        "# base_estimator = DecisionTreeClassifier (default value)\n",
        "ada_model.fit(x_train,y_train)\n",
        "print('Accuracy of Ada Boost classifier on train set: {:.2f}'.format(ada_model.score(x_train, y_train)))"
      ],
      "execution_count": null,
      "outputs": [
        {
          "output_type": "stream",
          "name": "stdout",
          "text": [
            "Accuracy of Ada Boost classifier on train set: 0.79\n"
          ]
        }
      ]
    },
    {
      "cell_type": "code",
      "metadata": {
        "colab": {
          "base_uri": "https://localhost:8080/"
        },
        "id": "zLcHxyRZRya1",
        "outputId": "374cd150-e9fc-41a6-c6fa-2d1587c9d7bf"
      },
      "source": [
        "ada_acc=ada_model.score(x_test, y_test)\n",
        "print('Accuracy of Ada Boost classifier on test set: {:.2f}'.format(ada_acc))"
      ],
      "execution_count": null,
      "outputs": [
        {
          "output_type": "stream",
          "name": "stdout",
          "text": [
            "Accuracy of Ada Boost classifier on test set: 0.73\n"
          ]
        }
      ]
    },
    {
      "cell_type": "markdown",
      "metadata": {
        "id": "AyP5NZm1wOgA"
      },
      "source": [
        "***XG Boost***"
      ]
    },
    {
      "cell_type": "code",
      "metadata": {
        "colab": {
          "base_uri": "https://localhost:8080/"
        },
        "id": "PZtcdsJr0p6a",
        "outputId": "d94a6fcf-d204-4049-915c-740a5b0bcefe"
      },
      "source": [
        "from xgboost import XGBClassifier\n",
        "xg_model = XGBClassifier()\n",
        "xg_model.fit(x_train, y_train)\n",
        "print('Accuracy of XG Boost classifier on train set: {:.2f}'.format(xg_model.score(x_train, y_train)))"
      ],
      "execution_count": null,
      "outputs": [
        {
          "output_type": "stream",
          "name": "stdout",
          "text": [
            "Accuracy of XG Boost classifier on train set: 0.85\n"
          ]
        }
      ]
    },
    {
      "cell_type": "code",
      "metadata": {
        "colab": {
          "base_uri": "https://localhost:8080/"
        },
        "id": "Xk4PMYMI1jyn",
        "outputId": "e36ec477-a645-4616-82b9-2337b44e5337"
      },
      "source": [
        "xg_acc=xg_model.score(x_test, y_test)\n",
        "print('Accuracy of XG Boost classifier on test set: {:.2f}'.format(xg_acc))"
      ],
      "execution_count": null,
      "outputs": [
        {
          "output_type": "stream",
          "name": "stdout",
          "text": [
            "Accuracy of XG Boost classifier on test set: 0.74\n"
          ]
        }
      ]
    },
    {
      "cell_type": "markdown",
      "metadata": {
        "id": "L5BI32LpLyAJ"
      },
      "source": [
        "**Model Comparison**"
      ]
    },
    {
      "cell_type": "code",
      "metadata": {
        "colab": {
          "base_uri": "https://localhost:8080/",
          "height": 363
        },
        "id": "yL68FJLeL2Z7",
        "outputId": "df2e2594-d59e-4bba-9c73-addc720faa59"
      },
      "source": [
        "models = pd.DataFrame({\n",
        "    'Model': ['Logistic Regression', 'Naive Bayes', 'Support Vector Machines','Decision Tree', 'Post Pruning', 'Pre Pruning', 'Random Forest', \n",
        "              'K - Nearest Neighbors', 'XG Boost', 'Ada Boost'],\n",
        "    \n",
        "    'Score': [lr_acc, nb_acc, svm_acc, pred_dt, post_pru_acc, pre_pru_acc, rand_acc, knn_acc, xg_acc, ada_acc]})\n",
        "  \n",
        "models.sort_values(by='Score', ascending=True)"
      ],
      "execution_count": null,
      "outputs": [
        {
          "output_type": "execute_result",
          "data": {
            "text/html": [
              "<div>\n",
              "<style scoped>\n",
              "    .dataframe tbody tr th:only-of-type {\n",
              "        vertical-align: middle;\n",
              "    }\n",
              "\n",
              "    .dataframe tbody tr th {\n",
              "        vertical-align: top;\n",
              "    }\n",
              "\n",
              "    .dataframe thead th {\n",
              "        text-align: right;\n",
              "    }\n",
              "</style>\n",
              "<table border=\"1\" class=\"dataframe\">\n",
              "  <thead>\n",
              "    <tr style=\"text-align: right;\">\n",
              "      <th></th>\n",
              "      <th>Model</th>\n",
              "      <th>Score</th>\n",
              "    </tr>\n",
              "  </thead>\n",
              "  <tbody>\n",
              "    <tr>\n",
              "      <th>1</th>\n",
              "      <td>Naive Bayes</td>\n",
              "      <td>0.721429</td>\n",
              "    </tr>\n",
              "    <tr>\n",
              "      <th>7</th>\n",
              "      <td>K - Nearest Neighbors</td>\n",
              "      <td>0.728571</td>\n",
              "    </tr>\n",
              "    <tr>\n",
              "      <th>9</th>\n",
              "      <td>Ada Boost</td>\n",
              "      <td>0.728571</td>\n",
              "    </tr>\n",
              "    <tr>\n",
              "      <th>0</th>\n",
              "      <td>Logistic Regression</td>\n",
              "      <td>0.735714</td>\n",
              "    </tr>\n",
              "    <tr>\n",
              "      <th>8</th>\n",
              "      <td>XG Boost</td>\n",
              "      <td>0.742857</td>\n",
              "    </tr>\n",
              "    <tr>\n",
              "      <th>6</th>\n",
              "      <td>Random Forest</td>\n",
              "      <td>0.750000</td>\n",
              "    </tr>\n",
              "    <tr>\n",
              "      <th>2</th>\n",
              "      <td>Support Vector Machines</td>\n",
              "      <td>0.757143</td>\n",
              "    </tr>\n",
              "    <tr>\n",
              "      <th>4</th>\n",
              "      <td>Post Pruning</td>\n",
              "      <td>0.764286</td>\n",
              "    </tr>\n",
              "    <tr>\n",
              "      <th>5</th>\n",
              "      <td>Pre Pruning</td>\n",
              "      <td>0.800000</td>\n",
              "    </tr>\n",
              "    <tr>\n",
              "      <th>3</th>\n",
              "      <td>Decision Tree</td>\n",
              "      <td>0.821429</td>\n",
              "    </tr>\n",
              "  </tbody>\n",
              "</table>\n",
              "</div>"
            ],
            "text/plain": [
              "                     Model     Score\n",
              "1              Naive Bayes  0.721429\n",
              "7    K - Nearest Neighbors  0.728571\n",
              "9                Ada Boost  0.728571\n",
              "0      Logistic Regression  0.735714\n",
              "8                 XG Boost  0.742857\n",
              "6            Random Forest  0.750000\n",
              "2  Support Vector Machines  0.757143\n",
              "4             Post Pruning  0.764286\n",
              "5              Pre Pruning  0.800000\n",
              "3            Decision Tree  0.821429"
            ]
          },
          "metadata": {},
          "execution_count": 620
        }
      ]
    },
    {
      "cell_type": "markdown",
      "metadata": {
        "id": "viyFF2gLQuIw"
      },
      "source": [
        "***Decision tree has given the best test accuracy of all the models***"
      ]
    },
    {
      "cell_type": "markdown",
      "metadata": {
        "id": "mNYMic1T5hUv"
      },
      "source": [
        "**---------------------------------------------------------------------------**"
      ]
    },
    {
      "cell_type": "markdown",
      "metadata": {
        "id": "zsTW0nefGCbi"
      },
      "source": [
        "**Stratified k-Fold Cross Validation**"
      ]
    },
    {
      "cell_type": "code",
      "metadata": {
        "id": "pSZfve0DafD_"
      },
      "source": [
        "from sklearn.ensemble import VotingClassifier\n",
        "from sklearn.model_selection import StratifiedShuffleSplit\n",
        "from sklearn import model_selection"
      ],
      "execution_count": null,
      "outputs": []
    },
    {
      "cell_type": "code",
      "metadata": {
        "id": "P2cwUTmDL1MY"
      },
      "source": [
        "#10-fold cross-validation\n",
        "from sklearn.model_selection import train_test_split\n",
        "from sklearn.model_selection import cross_val_score\n",
        "kfold = model_selection.StratifiedShuffleSplit(n_splits=10, random_state = 0)\n",
        "result1 = model_selection.cross_val_score(reg, x_train, y_train, cv=kfold)\n",
        "result2 = model_selection.cross_val_score(gnb, x_train, y_train, cv=kfold)\n",
        "result3 = model_selection.cross_val_score(svm_clf, x_train, y_train, cv=kfold)\n",
        "result4 = model_selection.cross_val_score(tree_model, x_train, y_train, cv=kfold)\n",
        "result5 = model_selection.cross_val_score(rf_model, x_train, y_train, cv=kfold)\n",
        "result6 = model_selection.cross_val_score(knn, x_train, y_train, cv=kfold)\n",
        "result7 = model_selection.cross_val_score(ada_model, x_train, y_train, cv=kfold)\n",
        "result8 = model_selection.cross_val_score(xg_model, x_train, y_train, cv=kfold)"
      ],
      "execution_count": null,
      "outputs": []
    },
    {
      "cell_type": "code",
      "metadata": {
        "colab": {
          "base_uri": "https://localhost:8080/"
        },
        "id": "l8GR1omhL1Rj",
        "outputId": "6a84a9c1-8cb8-4ca4-acde-0d0aad8d6759"
      },
      "source": [
        "#Printing the accuracies achieved in cross-validation\n",
        "print('Accuracy of Logistic Regression Model = ',result1.mean())\n",
        "print('Accuracy of Naive Bayes Model = ',result2.mean())\n",
        "print('Accuracy of Support Vector Machine = ',result3.mean())\n",
        "print('Accuracy of Decision Tree = ',result4.mean())\n",
        "print('Accuracy of Random Forest Model = ',result5.mean())\n",
        "print('Accuracy of KNN Model = ',result6.mean())\n",
        "print('Accuracy of Ada Boost Model = ',result7.mean())\n",
        "print('Accuracy of XG Boost Model = ',result8.mean())"
      ],
      "execution_count": null,
      "outputs": [
        {
          "output_type": "stream",
          "name": "stdout",
          "text": [
            "Accuracy of Logistic Regression Model =  0.7660714285714286\n",
            "Accuracy of Naive Bayes Model =  0.7339285714285715\n",
            "Accuracy of Support Vector Machine =  0.7696428571428571\n",
            "Accuracy of Decision Tree =  0.7232142857142858\n",
            "Accuracy of Random Forest Model =  0.7214285714285714\n",
            "Accuracy of KNN Model =  0.7089285714285715\n",
            "Accuracy of Ada Boost Model =  0.7553571428571428\n",
            "Accuracy of XG Boost Model =  0.75\n"
          ]
        }
      ]
    },
    {
      "cell_type": "markdown",
      "metadata": {
        "id": "McsIbyc82jyD"
      },
      "source": [
        "***Stratified K Fold Cross Validation on diffeferent models has given accuracies between 71 & 77. Comparatively, logistic regression & Support Vector Machine have performed the best.***"
      ]
    },
    {
      "cell_type": "markdown",
      "metadata": {
        "id": "_JXMG2gz3U51"
      },
      "source": [
        "**---------------------------------------------------------------------------**"
      ]
    },
    {
      "cell_type": "markdown",
      "metadata": {
        "id": "vKVPEKji3PBS"
      },
      "source": [
        "**Grid Search**"
      ]
    },
    {
      "cell_type": "markdown",
      "metadata": {
        "id": "7XINIH8ETfOJ"
      },
      "source": [
        "**Logistic regression grid search**"
      ]
    },
    {
      "cell_type": "code",
      "metadata": {
        "id": "bSJR5JebSAFq"
      },
      "source": [
        "from sklearn.datasets import make_blobs, make_classification\n",
        "from sklearn.model_selection import GridSearchCV\n",
        "scaled_inputs, targets = make_classification(n_samples=1000, n_classes=2, random_state=43)  \n",
        "#n_samples=no.of test records considered in each fold \n",
        "x_train, x_test, y_train, y_test = train_test_split(scaled_inputs, targets, test_size=0.25, random_state=43)"
      ],
      "execution_count": null,
      "outputs": []
    },
    {
      "cell_type": "code",
      "metadata": {
        "id": "Q7H_5DoiSAMY"
      },
      "source": [
        "parameter_grid = {'C':[0.001,0.01,0.1,1,10],   #\n",
        "                  'penalty':['l1', 'l2']  \n",
        "                  }"
      ],
      "execution_count": null,
      "outputs": []
    },
    {
      "cell_type": "code",
      "metadata": {
        "id": "I0NO09cLSARR"
      },
      "source": [
        "from sklearn.linear_model import LogisticRegression\n",
        "lr = LogisticRegression(random_state=43)\n",
        "estimator = GridSearchCV(estimator=lr, param_grid=parameter_grid, \\\n",
        "scoring='accuracy', cv=10, n_jobs=-1)\n",
        "lr = LogisticRegression(random_state=43)\n",
        "estimator = GridSearchCV(estimator=lr, param_grid=parameter_grid, \\\n",
        "scoring='accuracy', cv=10, n_jobs=-1)"
      ],
      "execution_count": null,
      "outputs": []
    },
    {
      "cell_type": "code",
      "metadata": {
        "colab": {
          "base_uri": "https://localhost:8080/"
        },
        "id": "85eX_r3XTKoy",
        "outputId": "98044abf-2c46-4187-ccc9-1a019a8cd4a9"
      },
      "source": [
        "estimator.fit(x_train, y_train)"
      ],
      "execution_count": null,
      "outputs": [
        {
          "output_type": "execute_result",
          "data": {
            "text/plain": [
              "GridSearchCV(cv=10, error_score=nan,\n",
              "             estimator=LogisticRegression(C=1.0, class_weight=None, dual=False,\n",
              "                                          fit_intercept=True,\n",
              "                                          intercept_scaling=1, l1_ratio=None,\n",
              "                                          max_iter=100, multi_class='auto',\n",
              "                                          n_jobs=None, penalty='l2',\n",
              "                                          random_state=43, solver='lbfgs',\n",
              "                                          tol=0.0001, verbose=0,\n",
              "                                          warm_start=False),\n",
              "             iid='deprecated', n_jobs=-1,\n",
              "             param_grid={'C': [0.001, 0.01, 0.1, 1, 10],\n",
              "                         'penalty': ['l1', 'l2']},\n",
              "             pre_dispatch='2*n_jobs', refit=True, return_train_score=False,\n",
              "             scoring='accuracy', verbose=0)"
            ]
          },
          "metadata": {},
          "execution_count": 627
        }
      ]
    },
    {
      "cell_type": "code",
      "metadata": {
        "colab": {
          "base_uri": "https://localhost:8080/"
        },
        "id": "AjW5GRCpTKt0",
        "outputId": "3663afe8-a369-4ee7-c2e3-01dd27bba74e"
      },
      "source": [
        "print(estimator.best_params_)\n",
        "print(estimator.best_estimator_)\n",
        "print(estimator.best_score_)\n",
        "print(estimator.best_params_)\n",
        "print(estimator.best_estimator_)\n",
        "print(estimator.best_score_)"
      ],
      "execution_count": null,
      "outputs": [
        {
          "output_type": "stream",
          "name": "stdout",
          "text": [
            "{'C': 0.1, 'penalty': 'l2'}\n",
            "LogisticRegression(C=0.1, class_weight=None, dual=False, fit_intercept=True,\n",
            "                   intercept_scaling=1, l1_ratio=None, max_iter=100,\n",
            "                   multi_class='auto', n_jobs=None, penalty='l2',\n",
            "                   random_state=43, solver='lbfgs', tol=0.0001, verbose=0,\n",
            "                   warm_start=False)\n",
            "0.9279999999999999\n",
            "{'C': 0.1, 'penalty': 'l2'}\n",
            "LogisticRegression(C=0.1, class_weight=None, dual=False, fit_intercept=True,\n",
            "                   intercept_scaling=1, l1_ratio=None, max_iter=100,\n",
            "                   multi_class='auto', n_jobs=None, penalty='l2',\n",
            "                   random_state=43, solver='lbfgs', tol=0.0001, verbose=0,\n",
            "                   warm_start=False)\n",
            "0.9279999999999999\n"
          ]
        }
      ]
    },
    {
      "cell_type": "code",
      "metadata": {
        "colab": {
          "base_uri": "https://localhost:8080/"
        },
        "id": "zI8YknQlTYLG",
        "outputId": "fa9d1e79-b57c-48f2-daba-b0e40eba3516"
      },
      "source": [
        "best_penalty = estimator.best_params_['penalty']\n",
        "best_C = estimator.best_params_['C']\n",
        "\n",
        "clf_lr = LogisticRegression(penalty=best_penalty, C=best_C)\n",
        "clf_lr.fit(x_train, y_train)\n",
        "\n",
        "predictions = clf_lr.predict(x_test)\n",
        "\n",
        "import sklearn.metrics as metrics\n",
        "acc_lr = round( metrics.accuracy_score(y_test, predictions) * 100, 2 )\n",
        "print( 'Accuracy of Decision Tree model : ', acc_lr )"
      ],
      "execution_count": null,
      "outputs": [
        {
          "output_type": "stream",
          "name": "stdout",
          "text": [
            "Accuracy of Decision Tree model :  93.2\n"
          ]
        }
      ]
    },
    {
      "cell_type": "code",
      "metadata": {
        "id": "orxDsG81Ti9Y"
      },
      "source": [
        "# Import GridSearchCV\n",
        "from sklearn.model_selection import GridSearchCV\n",
        "# Define the grid of values for tol and max_iter\n",
        "tol = [0.01, 0.001, 0.0001]\n",
        "max_iter = [100, 150, 200]\n",
        "\n",
        "# Create a dictionary where tol and max_iter are keys and the lists of their values are corresponding values\n",
        "param_grid = dict(tol=tol, max_iter=max_iter)"
      ],
      "execution_count": null,
      "outputs": []
    },
    {
      "cell_type": "code",
      "metadata": {
        "colab": {
          "base_uri": "https://localhost:8080/"
        },
        "id": "IBtOZQACVbVX",
        "outputId": "549f8110-06e5-4fe3-d9fa-ce4ad6902687"
      },
      "source": [
        "# Instantiate GridSearchCV with the required parameters\n",
        "grid_modelLR = GridSearchCV(estimator=reg, param_grid=param_grid, cv=5)\n",
        "\n",
        "# Fit data to grid_model\n",
        "grid_model_result = grid_modelLR.fit(scaled_inputs, targets)\n",
        "\n",
        "# Summarize results\n",
        "best_score, best_params = grid_model_result.best_score_, grid_model_result.best_params_ \n",
        "print(\"Best: %f using %s\" % (best_score, best_params))"
      ],
      "execution_count": null,
      "outputs": [
        {
          "output_type": "stream",
          "name": "stdout",
          "text": [
            "Best: 0.936000 using {'max_iter': 100, 'tol': 0.01}\n"
          ]
        }
      ]
    },
    {
      "cell_type": "markdown",
      "metadata": {
        "id": "V1ll3C2XxXma"
      },
      "source": [
        "**Naive Bayes Grid Search**"
      ]
    },
    {
      "cell_type": "code",
      "metadata": {
        "id": "JtXoeqJu0Rp5"
      },
      "source": [
        "param_grid_nb = {\n",
        "    'var_smoothing': np.logspace(0,-9, num=100)\n",
        "}"
      ],
      "execution_count": null,
      "outputs": []
    },
    {
      "cell_type": "code",
      "metadata": {
        "colab": {
          "base_uri": "https://localhost:8080/"
        },
        "id": "2VLS7fzhAqY0",
        "outputId": "60e9f961-7adb-4131-f3a3-2f186ccb89ce"
      },
      "source": [
        "from sklearn.naive_bayes import GaussianNB\n",
        "from sklearn.model_selection import GridSearchCV\n",
        "nbModel_grid = GridSearchCV(estimator=GaussianNB(), param_grid=param_grid_nb, verbose=1, cv=10, n_jobs=-1)\n",
        "nbModel_grid.fit(x_train, y_train)\n",
        "print(nbModel_grid.best_estimator_)"
      ],
      "execution_count": null,
      "outputs": [
        {
          "output_type": "stream",
          "name": "stdout",
          "text": [
            "Fitting 10 folds for each of 100 candidates, totalling 1000 fits\n"
          ]
        },
        {
          "output_type": "stream",
          "name": "stderr",
          "text": [
            "[Parallel(n_jobs=-1)]: Using backend LokyBackend with 2 concurrent workers.\n"
          ]
        },
        {
          "output_type": "stream",
          "name": "stdout",
          "text": [
            "GaussianNB(priors=None, var_smoothing=0.08111308307896872)\n"
          ]
        },
        {
          "output_type": "stream",
          "name": "stderr",
          "text": [
            "[Parallel(n_jobs=-1)]: Done 951 tasks      | elapsed:    1.3s\n",
            "[Parallel(n_jobs=-1)]: Done 1000 out of 1000 | elapsed:    1.4s finished\n"
          ]
        }
      ]
    },
    {
      "cell_type": "code",
      "metadata": {
        "id": "uPMRnaedAqhA"
      },
      "source": [
        "y_prednbg = nbModel_grid.predict(x_test)"
      ],
      "execution_count": null,
      "outputs": []
    },
    {
      "cell_type": "code",
      "metadata": {
        "colab": {
          "base_uri": "https://localhost:8080/"
        },
        "id": "gxy83d3B0RwQ",
        "outputId": "e6760fd2-47c0-4f19-a212-e7ffc9f0022a"
      },
      "source": [
        "from sklearn.metrics import confusion_matrix\n",
        "import sklearn.metrics as metrics\n",
        "print(confusion_matrix(y_test, y_prednbg), \": is the confusion matrix\")\n",
        "from sklearn.metrics import accuracy_score\n",
        "#print(accuracy_score(y_test, y_pred), \": is the accuracy score\")\n",
        "acc_nbg = round( metrics.accuracy_score(y_test, y_prednbg) * 100, 2 )\n",
        "print( 'Accuracy of Naive Bayes model : ', acc_nbg )"
      ],
      "execution_count": null,
      "outputs": [
        {
          "output_type": "stream",
          "name": "stdout",
          "text": [
            "[[115   6]\n",
            " [  8 121]] : is the confusion matrix\n",
            "Accuracy of Naive Bayes model :  94.4\n"
          ]
        }
      ]
    },
    {
      "cell_type": "markdown",
      "metadata": {
        "id": "Qr91BH52VvqC"
      },
      "source": [
        "**SVM Grid Search**"
      ]
    },
    {
      "cell_type": "code",
      "metadata": {
        "colab": {
          "base_uri": "https://localhost:8080/"
        },
        "id": "NV8jh1cDd_de",
        "outputId": "ed9f7045-893e-45b9-e831-59d2fb6ecb23"
      },
      "source": [
        "# Import Library of Support Vector Machine model\n",
        "from sklearn import svm\n",
        "\n",
        "# Create a Support Vector Classifier\n",
        "svc = svm.SVC()\n",
        "\n",
        "# Hyperparameter Optimization\n",
        "parameters = [\n",
        "   {'C': [1, 10, 100, 1000], 'kernel': ['linear']},\n",
        "   {'C': [1, 10, 100, 1000], 'gamma': [0.001, 0.0001], 'kernel': ['rbf']},\n",
        " ]\n",
        "\n",
        "# Run the grid search\n",
        "grid_obj = GridSearchCV(svc, parameters)\n",
        "grid_obj = grid_obj.fit(x_train, y_train)\n",
        "\n",
        "# Set the svc to the best combination of parameters\n",
        "svc = grid_obj.best_estimator_\n",
        "\n",
        "# Train the model using the training sets \n",
        "svc.fit(x_train,y_train)"
      ],
      "execution_count": null,
      "outputs": [
        {
          "output_type": "execute_result",
          "data": {
            "text/plain": [
              "SVC(C=100, break_ties=False, cache_size=200, class_weight=None, coef0=0.0,\n",
              "    decision_function_shape='ovr', degree=3, gamma=0.001, kernel='rbf',\n",
              "    max_iter=-1, probability=False, random_state=None, shrinking=True,\n",
              "    tol=0.001, verbose=False)"
            ]
          },
          "metadata": {},
          "execution_count": 636
        }
      ]
    },
    {
      "cell_type": "code",
      "metadata": {
        "colab": {
          "base_uri": "https://localhost:8080/"
        },
        "id": "CndgRG5feW0u",
        "outputId": "ecebaa0d-8983-48fb-e897-d93910acb389"
      },
      "source": [
        "# Prediction on test data\n",
        "y_predsv = svc.predict(x_test)\n",
        "# Calculating the accuracy\n",
        "import sklearn.metrics as metrics\n",
        "acc_svm = round( metrics.accuracy_score(y_test, y_predsv) * 100, 2 )\n",
        "print( 'Accuracy of SVM model : ', acc_svm )"
      ],
      "execution_count": null,
      "outputs": [
        {
          "output_type": "stream",
          "name": "stdout",
          "text": [
            "Accuracy of SVM model :  94.8\n"
          ]
        }
      ]
    },
    {
      "cell_type": "markdown",
      "metadata": {
        "id": "h86ktsvih5cq"
      },
      "source": [
        "**KNN Grid Search**"
      ]
    },
    {
      "cell_type": "code",
      "metadata": {
        "colab": {
          "base_uri": "https://localhost:8080/"
        },
        "id": "OWzbySndiBI1",
        "outputId": "eb6f2eff-e340-4118-e86b-cefc496d4816"
      },
      "source": [
        "# Import library of KNeighborsClassifier model\n",
        "from sklearn.neighbors import KNeighborsClassifier\n",
        "\n",
        "# Create a KNN Classifier\n",
        "knn = KNeighborsClassifier()\n",
        "\n",
        "# Hyperparameter Optimization\n",
        "parameters = {'n_neighbors': [3, 4, 5, 10], \n",
        "              'weights': ['uniform', 'distance'],\n",
        "              'algorithm' : ['auto', 'ball_tree', 'kd_tree', 'brute'],\n",
        "              'leaf_size' : [10, 20, 30, 50]\n",
        "             }\n",
        "\n",
        "# Run the grid search\n",
        "grid_obj = GridSearchCV(knn, parameters)\n",
        "grid_obj = grid_obj.fit(x_train, y_train)\n",
        "\n",
        "# Set the knn to the best combination of parameters\n",
        "knn = grid_obj.best_estimator_\n",
        "\n",
        "# Train the model using the training sets \n",
        "knn.fit(x_train,y_train)"
      ],
      "execution_count": null,
      "outputs": [
        {
          "output_type": "execute_result",
          "data": {
            "text/plain": [
              "KNeighborsClassifier(algorithm='auto', leaf_size=10, metric='minkowski',\n",
              "                     metric_params=None, n_jobs=None, n_neighbors=10, p=2,\n",
              "                     weights='uniform')"
            ]
          },
          "metadata": {},
          "execution_count": 638
        }
      ]
    },
    {
      "cell_type": "code",
      "metadata": {
        "colab": {
          "base_uri": "https://localhost:8080/"
        },
        "id": "cJ3tPaR3d_qH",
        "outputId": "a8634997-01cb-417b-f32d-3f630519ef90"
      },
      "source": [
        "# Prediction on test data\n",
        "y_predknn = knn.predict(x_test)\n",
        "\n",
        "# Calculating the accuracy\n",
        "acc_knn = round( metrics.accuracy_score(y_test, y_predknn) * 100, 2 )\n",
        "print( 'Accuracy of KNN model : ', acc_knn )"
      ],
      "execution_count": null,
      "outputs": [
        {
          "output_type": "stream",
          "name": "stdout",
          "text": [
            "Accuracy of KNN model :  91.2\n"
          ]
        }
      ]
    },
    {
      "cell_type": "markdown",
      "metadata": {
        "id": "HA1MyggJrSo0"
      },
      "source": [
        "**Decision Tree Grid Search**"
      ]
    },
    {
      "cell_type": "code",
      "metadata": {
        "id": "Gn20ZGbPrV5b"
      },
      "source": [
        "# Import Decision tree classifier\n",
        "from sklearn.tree import DecisionTreeClassifier\n",
        "\n",
        "# Create a Decision tree classifier model\n",
        "clf = DecisionTreeClassifier(criterion=\"gini\", random_state=0,max_depth=7, min_samples_leaf=2)"
      ],
      "execution_count": null,
      "outputs": []
    },
    {
      "cell_type": "code",
      "metadata": {
        "colab": {
          "base_uri": "https://localhost:8080/"
        },
        "id": "lN-z3jgPh4mF",
        "outputId": "d1a461e2-653d-41d7-a3c9-71f2df2928b1"
      },
      "source": [
        "# Hyperparameter Optimization\n",
        "parameters = {'max_features': ['log2', 'sqrt','auto'], \n",
        "              'criterion': ['entropy', 'gini'],\n",
        "              'max_depth': [2, 3, 5, 10, 50], \n",
        "              'min_samples_split': [2, 3, 50, 100],\n",
        "              'min_samples_leaf': [1, 5, 8, 10]\n",
        "             }\n",
        "\n",
        "# Run the grid search\n",
        "grid_obj = GridSearchCV(clf, parameters)\n",
        "grid_obj = grid_obj.fit(x_train, y_train)\n",
        "\n",
        "# Set the clf to the best combination of parameters\n",
        "clf = grid_obj.best_estimator_\n",
        "\n",
        "# Train the model using the training sets \n",
        "clf.fit(x_train, y_train)"
      ],
      "execution_count": null,
      "outputs": [
        {
          "output_type": "execute_result",
          "data": {
            "text/plain": [
              "DecisionTreeClassifier(ccp_alpha=0.0, class_weight=None, criterion='entropy',\n",
              "                       max_depth=5, max_features='log2', max_leaf_nodes=None,\n",
              "                       min_impurity_decrease=0.0, min_impurity_split=None,\n",
              "                       min_samples_leaf=1, min_samples_split=2,\n",
              "                       min_weight_fraction_leaf=0.0, presort='deprecated',\n",
              "                       random_state=0, splitter='best')"
            ]
          },
          "metadata": {},
          "execution_count": 641
        }
      ]
    },
    {
      "cell_type": "code",
      "metadata": {
        "colab": {
          "base_uri": "https://localhost:8080/"
        },
        "id": "93yZgCd0rfaB",
        "outputId": "506646f4-851c-461a-dfa3-2a6db639b563"
      },
      "source": [
        "# Prediction on test set\n",
        "y_pred = clf.predict(x_test)\n",
        "# Calculating the accuracy\n",
        "acc_dt = round( metrics.accuracy_score(y_test, y_pred) * 100, 2 )\n",
        "print( 'Accuracy of Decision Tree model : ', acc_dt )"
      ],
      "execution_count": null,
      "outputs": [
        {
          "output_type": "stream",
          "name": "stdout",
          "text": [
            "Accuracy of Decision Tree model :  94.4\n"
          ]
        }
      ]
    },
    {
      "cell_type": "markdown",
      "metadata": {
        "id": "LjX4GwiIrr-k"
      },
      "source": [
        "**Random Forest Grid Search**"
      ]
    },
    {
      "cell_type": "code",
      "metadata": {
        "colab": {
          "base_uri": "https://localhost:8080/"
        },
        "id": "U_7wr_n0rwsF",
        "outputId": "ef8d6c85-04a0-4093-abef-97e76d5b3d2e"
      },
      "source": [
        "# Import library of RandomForestClassifier model\n",
        "from sklearn.ensemble import RandomForestClassifier\n",
        "\n",
        "# Create a Random Forest Classifier\n",
        "rf = RandomForestClassifier(n_estimators=100, random_state=42)\n",
        "\n",
        "# Hyperparameter Optimization\n",
        "parameters = {'n_estimators': [4, 6, 9, 10, 15], \n",
        "              'max_features': ['log2', 'sqrt','auto'], \n",
        "              'criterion': ['entropy', 'gini'],\n",
        "              'max_depth': [2, 3, 5, 10], \n",
        "              'min_samples_split': [2, 3, 5],\n",
        "              'min_samples_leaf': [1, 5, 8]\n",
        "             }\n",
        "\n",
        "# Run the grid search\n",
        "grid_obj = GridSearchCV(rf, parameters)\n",
        "grid_obj = grid_obj.fit(x_train, y_train)\n",
        "\n",
        "# Set the rf to the best combination of parameters\n",
        "rf = grid_obj.best_estimator_\n",
        "\n",
        "# Train the model using the training sets \n",
        "rf.fit(x_train,y_train)"
      ],
      "execution_count": null,
      "outputs": [
        {
          "output_type": "execute_result",
          "data": {
            "text/plain": [
              "RandomForestClassifier(bootstrap=True, ccp_alpha=0.0, class_weight=None,\n",
              "                       criterion='entropy', max_depth=10, max_features='log2',\n",
              "                       max_leaf_nodes=None, max_samples=None,\n",
              "                       min_impurity_decrease=0.0, min_impurity_split=None,\n",
              "                       min_samples_leaf=5, min_samples_split=2,\n",
              "                       min_weight_fraction_leaf=0.0, n_estimators=10,\n",
              "                       n_jobs=None, oob_score=False, random_state=42, verbose=0,\n",
              "                       warm_start=False)"
            ]
          },
          "metadata": {},
          "execution_count": 643
        }
      ]
    },
    {
      "cell_type": "code",
      "metadata": {
        "colab": {
          "base_uri": "https://localhost:8080/"
        },
        "id": "apBOKyy6rfhD",
        "outputId": "0cd53e87-abf9-4758-8c8b-eae927b035c8"
      },
      "source": [
        "# Prediction on test data\n",
        "y_pred = rf.predict(x_test)\n",
        "# Calculating the accuracy\n",
        "acc_rf = round( metrics.accuracy_score(y_test, y_pred) * 100 , 2 )\n",
        "print( 'Accuracy of Random Forest model : ', acc_rf )"
      ],
      "execution_count": null,
      "outputs": [
        {
          "output_type": "stream",
          "name": "stdout",
          "text": [
            "Accuracy of Random Forest model :  94.8\n"
          ]
        }
      ]
    },
    {
      "cell_type": "markdown",
      "metadata": {
        "id": "Iad04P0cQigP"
      },
      "source": [
        "**XGBoost Grid Search**"
      ]
    },
    {
      "cell_type": "code",
      "metadata": {
        "id": "-UOKjK6lAIms"
      },
      "source": [
        "from xgboost import XGBClassifier\n",
        "from sklearn.model_selection import GridSearchCV"
      ],
      "execution_count": null,
      "outputs": []
    },
    {
      "cell_type": "code",
      "metadata": {
        "id": "yqpDTEUFAIqx"
      },
      "source": [
        "estimator = XGBClassifier(\n",
        "    objective= 'binary:logistic',\n",
        "    nthread=4,\n",
        "    seed=42\n",
        ")"
      ],
      "execution_count": null,
      "outputs": []
    },
    {
      "cell_type": "code",
      "metadata": {
        "id": "pABZervfAIwC"
      },
      "source": [
        "parameters = {\n",
        "    'max_depth': range (2, 10, 1),\n",
        "    'n_estimators': range(60, 220, 40),\n",
        "    'learning_rate': [0.1, 0.01, 0.05]\n",
        "}"
      ],
      "execution_count": null,
      "outputs": []
    },
    {
      "cell_type": "code",
      "metadata": {
        "id": "KYYbHF3UARn3"
      },
      "source": [
        "grid_search = GridSearchCV(\n",
        "    estimator=estimator,\n",
        "    param_grid=parameters,\n",
        "    scoring = 'roc_auc',\n",
        "    n_jobs = 10,\n",
        "    cv = 10,\n",
        "    verbose=True\n",
        ")"
      ],
      "execution_count": null,
      "outputs": []
    },
    {
      "cell_type": "code",
      "metadata": {
        "colab": {
          "base_uri": "https://localhost:8080/"
        },
        "id": "JCabGWhVAWBQ",
        "outputId": "9c315616-0794-4105-d55f-2dc014321844"
      },
      "source": [
        "optimal_model_fit=grid_search.fit(scaled_inputs, targets)"
      ],
      "execution_count": null,
      "outputs": [
        {
          "output_type": "stream",
          "name": "stdout",
          "text": [
            "Fitting 10 folds for each of 96 candidates, totalling 960 fits\n"
          ]
        },
        {
          "output_type": "stream",
          "name": "stderr",
          "text": [
            "[Parallel(n_jobs=10)]: Using backend LokyBackend with 10 concurrent workers.\n",
            "[Parallel(n_jobs=10)]: Done  30 tasks      | elapsed:    9.2s\n",
            "[Parallel(n_jobs=10)]: Done 180 tasks      | elapsed:   45.2s\n",
            "[Parallel(n_jobs=10)]: Done 430 tasks      | elapsed:  1.9min\n",
            "[Parallel(n_jobs=10)]: Done 780 tasks      | elapsed:  3.8min\n",
            "[Parallel(n_jobs=10)]: Done 960 out of 960 | elapsed:  4.9min finished\n"
          ]
        }
      ]
    },
    {
      "cell_type": "code",
      "metadata": {
        "id": "munsKUIUAb_h"
      },
      "source": [
        "optimal_model_xg=grid_search.best_estimator_"
      ],
      "execution_count": null,
      "outputs": []
    },
    {
      "cell_type": "code",
      "metadata": {
        "id": "dBb4TazKBiyk"
      },
      "source": [
        "from sklearn.model_selection import RepeatedStratifiedKFold\n",
        "tuned_model = XGBClassifier(random_state=1, \n",
        "                            colsample_bytree=0.3, \n",
        "                            gamma=1, \n",
        "                            learning_rate=0.01, \n",
        "                            max_depth=5, \n",
        "                            min_child_weight=1,\n",
        "                            n_estimators=100,\n",
        "                            scale_pos_weight=2, \n",
        "                            subsample=0.9)\n",
        "cv = RepeatedStratifiedKFold(n_splits=10, n_repeats=3, random_state=1)\n",
        "scores = cross_val_score(tuned_model, x_train, y_train, scoring='roc_auc', cv=cv, n_jobs=-1)"
      ],
      "execution_count": null,
      "outputs": []
    },
    {
      "cell_type": "code",
      "metadata": {
        "colab": {
          "base_uri": "https://localhost:8080/"
        },
        "id": "gHyVa4NSoS6X",
        "outputId": "9c90aa16-2404-4353-b9cb-95d70b442c61"
      },
      "source": [
        "# Prediction on test data\n",
        "y_predxg = optimal_model_fit.predict(x_test)\n",
        "# Calculating the accuracy\n",
        "acc_xbg = round( metrics.accuracy_score(y_test, y_predxg) * 100 , 2 )\n",
        "print( 'Accuracy of XG Boost model : ', acc_xbg )"
      ],
      "execution_count": null,
      "outputs": [
        {
          "output_type": "stream",
          "name": "stdout",
          "text": [
            "Accuracy of XG Boost model :  95.2\n"
          ]
        }
      ]
    },
    {
      "cell_type": "markdown",
      "metadata": {
        "id": "EoXbPFQKZG0O"
      },
      "source": [
        "**Ada Boost Grid Search**"
      ]
    },
    {
      "cell_type": "code",
      "metadata": {
        "colab": {
          "base_uri": "https://localhost:8080/"
        },
        "id": "JhpF6J1Me5k0",
        "outputId": "b4a51520-6e39-4f5a-e80f-3671b0e0ed7c"
      },
      "source": [
        "from sklearn.model_selection import GridSearchCV\n",
        "params = {\n",
        "     'n_estimators': np.arange(10,300,10),\n",
        "     'learning_rate': [0.01, 0.05, 0.1, 1],\n",
        " }\n",
        "ada_grid_cv = GridSearchCV(AdaBoostClassifier(), param_grid= params, cv=5, n_jobs=-1)\n",
        "ada_grid_cv.fit(scaled_inputs,targets)\n",
        "ada_grid_cv.best_params_"
      ],
      "execution_count": null,
      "outputs": [
        {
          "output_type": "execute_result",
          "data": {
            "text/plain": [
              "{'learning_rate': 0.05, 'n_estimators': 70}"
            ]
          },
          "metadata": {},
          "execution_count": 653
        }
      ]
    },
    {
      "cell_type": "code",
      "metadata": {
        "colab": {
          "base_uri": "https://localhost:8080/"
        },
        "id": "VD4CyHm9e5p8",
        "outputId": "8582677a-d56e-432b-874e-c2c2fc380ae9"
      },
      "source": [
        "from sklearn.model_selection import GridSearchCV\n",
        "from sklearn.ensemble import AdaBoostClassifier\n",
        "\n",
        "grid = dict()\n",
        "grid['n_estimators'] = [10, 50, 100, 500]\n",
        "grid['learning_rate'] = [0.0001, 0.001, 0.01, 0.1, 1.0]\n",
        "grid['algorithm'] = ['SAMME', 'SAMME.R']\n",
        "\n",
        "grid_search = GridSearchCV(estimator=AdaBoostClassifier(), param_grid=grid, n_jobs=-1, cv=10, scoring='accuracy')\n",
        "# execute the grid search\n",
        "grid_result = grid_search.fit(scaled_inputs, targets)\n",
        "# summarize the best score and configuration\n",
        "ada_acc=(grid_result.best_score_)*100\n",
        "print(\"Best: %f using %s\" % (grid_result.best_score_, grid_result.best_params_))"
      ],
      "execution_count": null,
      "outputs": [
        {
          "output_type": "stream",
          "name": "stdout",
          "text": [
            "Best: 0.954000 using {'algorithm': 'SAMME.R', 'learning_rate': 0.1, 'n_estimators': 50}\n"
          ]
        }
      ]
    },
    {
      "cell_type": "markdown",
      "metadata": {
        "id": "Fd63Q4TG67UJ"
      },
      "source": [
        "**Model Comparison of Grid Search**"
      ]
    },
    {
      "cell_type": "code",
      "metadata": {
        "colab": {
          "base_uri": "https://localhost:8080/",
          "height": 300
        },
        "id": "3yOLdbJIs9c7",
        "outputId": "075f0883-fb34-4af6-bb5e-a473c71ef880"
      },
      "source": [
        "grid_models = pd.DataFrame({\n",
        "    'Model': ['Logistic Regression', 'Naive Bayes', 'Support Vector Machines','Decision Tree', 'Random Forest', \n",
        "              'K - Nearest Neighbors', 'XG Boost', 'Ada Boost'],\n",
        "    \n",
        "    'Score': [acc_lr, acc_nbg, acc_svm, acc_dt, acc_rf, acc_knn, acc_xbg, ada_acc]})\n",
        "  \n",
        "grid_models.sort_values(by='Score', ascending=True)"
      ],
      "execution_count": null,
      "outputs": [
        {
          "output_type": "execute_result",
          "data": {
            "text/html": [
              "<div>\n",
              "<style scoped>\n",
              "    .dataframe tbody tr th:only-of-type {\n",
              "        vertical-align: middle;\n",
              "    }\n",
              "\n",
              "    .dataframe tbody tr th {\n",
              "        vertical-align: top;\n",
              "    }\n",
              "\n",
              "    .dataframe thead th {\n",
              "        text-align: right;\n",
              "    }\n",
              "</style>\n",
              "<table border=\"1\" class=\"dataframe\">\n",
              "  <thead>\n",
              "    <tr style=\"text-align: right;\">\n",
              "      <th></th>\n",
              "      <th>Model</th>\n",
              "      <th>Score</th>\n",
              "    </tr>\n",
              "  </thead>\n",
              "  <tbody>\n",
              "    <tr>\n",
              "      <th>5</th>\n",
              "      <td>K - Nearest Neighbors</td>\n",
              "      <td>91.2</td>\n",
              "    </tr>\n",
              "    <tr>\n",
              "      <th>0</th>\n",
              "      <td>Logistic Regression</td>\n",
              "      <td>93.2</td>\n",
              "    </tr>\n",
              "    <tr>\n",
              "      <th>1</th>\n",
              "      <td>Naive Bayes</td>\n",
              "      <td>94.4</td>\n",
              "    </tr>\n",
              "    <tr>\n",
              "      <th>3</th>\n",
              "      <td>Decision Tree</td>\n",
              "      <td>94.4</td>\n",
              "    </tr>\n",
              "    <tr>\n",
              "      <th>2</th>\n",
              "      <td>Support Vector Machines</td>\n",
              "      <td>94.8</td>\n",
              "    </tr>\n",
              "    <tr>\n",
              "      <th>4</th>\n",
              "      <td>Random Forest</td>\n",
              "      <td>94.8</td>\n",
              "    </tr>\n",
              "    <tr>\n",
              "      <th>6</th>\n",
              "      <td>XG Boost</td>\n",
              "      <td>95.2</td>\n",
              "    </tr>\n",
              "    <tr>\n",
              "      <th>7</th>\n",
              "      <td>Ada Boost</td>\n",
              "      <td>95.4</td>\n",
              "    </tr>\n",
              "  </tbody>\n",
              "</table>\n",
              "</div>"
            ],
            "text/plain": [
              "                     Model  Score\n",
              "5    K - Nearest Neighbors   91.2\n",
              "0      Logistic Regression   93.2\n",
              "1              Naive Bayes   94.4\n",
              "3            Decision Tree   94.4\n",
              "2  Support Vector Machines   94.8\n",
              "4            Random Forest   94.8\n",
              "6                 XG Boost   95.2\n",
              "7                Ada Boost   95.4"
            ]
          },
          "metadata": {},
          "execution_count": 655
        }
      ]
    },
    {
      "cell_type": "markdown",
      "metadata": {
        "id": "qyhwqNWj0-Ji"
      },
      "source": [
        "***Grid Search on different ML algorithms has given an accuracy between 91 & 95. Comparitively, the boosting algorithms have performed the best***"
      ]
    },
    {
      "cell_type": "markdown",
      "metadata": {
        "id": "nqIWhFjKoKQP"
      },
      "source": [
        "**Saving Ada Boost model**"
      ]
    },
    {
      "cell_type": "code",
      "metadata": {
        "id": "daLx_YtIoMpj"
      },
      "source": [
        "#Pickling is done to convert an object (here, \"reg\") into byte stream for easily transportation across various online sources \n",
        "import pickle"
      ],
      "execution_count": null,
      "outputs": []
    },
    {
      "cell_type": "code",
      "metadata": {
        "id": "cG23UkQAPZ0b"
      },
      "source": [
        "#Pickling Logistic regression object\n",
        "with open('ada_grid_cv', 'wb') as file:      #model=our ML model, wb=write bytes\n",
        "    pickle.dump(reg, file)             #dump=save, reg=object"
      ],
      "execution_count": null,
      "outputs": []
    },
    {
      "cell_type": "code",
      "metadata": {
        "id": "KW2Gd0_4rHgl"
      },
      "source": [
        "# pickle the scaler file\n",
        "with open('scaler','wb') as file:\n",
        "    pickle.dump(absenteeism_scaler, file)"
      ],
      "execution_count": null,
      "outputs": []
    }
  ]
}